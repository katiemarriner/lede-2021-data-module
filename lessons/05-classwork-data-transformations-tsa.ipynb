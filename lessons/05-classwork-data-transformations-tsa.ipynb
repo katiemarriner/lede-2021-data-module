{
 "cells": [
  {
   "cell_type": "markdown",
   "metadata": {},
   "source": [
    "# 05 - web scraping and data transformations\n",
    "\n",
    "1. [The TSA posts passenger numbers](https://www.tsa.gov/coronavirus/passenger-throughput) in a table but there is no download or API option. We can use BeautifulSoup to parse this table.\n",
    "1. Transform the TSA passenger data in two ways to create two different charts\n",
    "1. Create two charts inside this notebook with [Matplotlib](https://pandas.pydata.org/pandas-docs/stable/user_guide/visualization.html)"
   ]
  },
  {
   "cell_type": "markdown",
   "metadata": {},
   "source": [
    "__Library reference__\n",
    "- [BeautifulSoup]()\n",
    "- [pandas]()\n",
    "- [Matplot for pandas]()\n",
    "- [Datetime format codes](https://docs.python.org/3/library/datetime.html#strftime-and-strptime-format-codes)\n",
    "\n",
    "1. Turn the TSA's html table into a dataframe\n",
    "    1. Create a list of column names\n",
    "    1. Create a 2d array of data\n",
    "    1. Format the data into two columns: date and value\n",
    "1. Transform the data in two different ways for new different charts\n",
    "1. Create two charts"
   ]
  },
  {
   "cell_type": "code",
   "execution_count": 191,
   "metadata": {},
   "outputs": [],
   "source": [
    "# !pipenv uninstall matplotlib"
   ]
  },
  {
   "cell_type": "code",
   "execution_count": 192,
   "metadata": {},
   "outputs": [],
   "source": [
    "#### Import libraries\n",
    "import pandas as pd\n",
    "import requests\n",
    "from bs4 import BeautifulSoup\n",
    "from datetime import datetime, timedelta\n",
    "import matplotlib.pyplot as plt\n",
    "\n",
    "# set display format for numbers\n",
    "pd.set_option('display.float_format', lambda x: '%.3f' % x)"
   ]
  },
  {
   "cell_type": "markdown",
   "metadata": {},
   "source": [
    "## 1. Turn the TSA's html table into a dataframe"
   ]
  },
  {
   "cell_type": "code",
   "execution_count": 193,
   "metadata": {},
   "outputs": [],
   "source": [
    "# get html from from page\n",
    "tsa_r = requests.get('https://www.tsa.gov/coronavirus/passenger-throughput')"
   ]
  },
  {
   "cell_type": "code",
   "execution_count": 194,
   "metadata": {},
   "outputs": [],
   "source": [
    "# create a beautifulsoup object\n",
    "tsa_bs = BeautifulSoup(tsa_r.text)"
   ]
  },
  {
   "cell_type": "code",
   "execution_count": 195,
   "metadata": {},
   "outputs": [],
   "source": [
    "# tsa_bs.text"
   ]
  },
  {
   "cell_type": "markdown",
   "metadata": {},
   "source": [
    "#### table tag\n",
    "![table selected](../answers/assets/table.png)"
   ]
  },
  {
   "cell_type": "code",
   "execution_count": 197,
   "metadata": {},
   "outputs": [],
   "source": [
    "# check pandas docs on read_html\n",
    "# pandas_tsa = pd.read_html('https://www.tsa.gov/coronavirus/passenger-throughput')"
   ]
  },
  {
   "cell_type": "code",
   "execution_count": null,
   "metadata": {},
   "outputs": [],
   "source": []
  },
  {
   "cell_type": "markdown",
   "metadata": {},
   "source": [
    "### a. Create a list column names"
   ]
  },
  {
   "cell_type": "code",
   "execution_count": 198,
   "metadata": {},
   "outputs": [],
   "source": [
    "# turn thead into a column list\n",
    "thead = tsa_bs.find('thead')"
   ]
  },
  {
   "cell_type": "code",
   "execution_count": 199,
   "metadata": {},
   "outputs": [
    {
     "data": {
      "text/plain": [
       "3"
      ]
     },
     "execution_count": 199,
     "metadata": {},
     "output_type": "execute_result"
    }
   ],
   "source": [
    "len(thead)"
   ]
  },
  {
   "cell_type": "code",
   "execution_count": 200,
   "metadata": {},
   "outputs": [],
   "source": [
    "# then find all th elements (because there is only 1 row)\n",
    "ths = thead.find_all('th')"
   ]
  },
  {
   "cell_type": "code",
   "execution_count": 201,
   "metadata": {},
   "outputs": [],
   "source": [
    "# and loop through each th to extract the text for a list\n",
    "tsa_col = []\n",
    "for th in ths:\n",
    "    tsa_col.append(th.text.strip())"
   ]
  },
  {
   "cell_type": "code",
   "execution_count": 202,
   "metadata": {},
   "outputs": [
    {
     "data": {
      "text/plain": [
       "['Date',\n",
       " '2021 Traveler Throughput',\n",
       " '2020 Traveler Throughput',\n",
       " '2019 Traveler Throughput']"
      ]
     },
     "execution_count": 202,
     "metadata": {},
     "output_type": "execute_result"
    }
   ],
   "source": [
    "# print the list\n",
    "tsa_col"
   ]
  },
  {
   "cell_type": "markdown",
   "metadata": {},
   "source": [
    "### b. Create a 2d array of data\n",
    "![tbody example](../answers/assets/tbody.png)"
   ]
  },
  {
   "cell_type": "code",
   "execution_count": 203,
   "metadata": {},
   "outputs": [],
   "source": [
    "# turn data into an array of arrays (2d array)\n",
    "tbody = tsa_bs.find('tbody')"
   ]
  },
  {
   "cell_type": "code",
   "execution_count": 204,
   "metadata": {},
   "outputs": [],
   "source": [
    "# turn tr tags into a list\n",
    "trs = tbody.find_all('tr')"
   ]
  },
  {
   "cell_type": "code",
   "execution_count": 205,
   "metadata": {},
   "outputs": [],
   "source": [
    "# create a list of td tags inside each tr list\n",
    "tr_list = []\n",
    "for tr in trs:\n",
    "    tds = tr.find_all('td')\n",
    "    td_list = []\n",
    "    for td in tds:\n",
    "        td_list.append(td.text.strip())\n",
    "    tr_list.append(td_list)"
   ]
  },
  {
   "cell_type": "code",
   "execution_count": 206,
   "metadata": {},
   "outputs": [
    {
     "data": {
      "text/plain": [
       "(365,\n",
       " [['7/13/2021', '1,832,878', '540,268', '2,447,177'],\n",
       "  ['7/12/2021', '2,093,066', '697,985', '2,615,115']])"
      ]
     },
     "execution_count": 206,
     "metadata": {},
     "output_type": "execute_result"
    }
   ],
   "source": [
    "# Check the length of the list and the first couple of items\n",
    "len(tr_list), tr_list[0:2]"
   ]
  },
  {
   "cell_type": "markdown",
   "metadata": {},
   "source": [
    "### c. Format the data into two columns: date and value"
   ]
  },
  {
   "cell_type": "code",
   "execution_count": 207,
   "metadata": {},
   "outputs": [],
   "source": [
    "# create a function that will generate dates of preceding years\n",
    "def format_date(d, column_year):\n",
    "    date_ = datetime.strptime(d, '%m/%d/%Y')\n",
    "    year_delta = date_.year - column_year\n",
    "#     print(year_delta)\n",
    "    new_date = date_ - timedelta(weeks=year_delta*52)\n",
    "    return new_date"
   ]
  },
  {
   "cell_type": "code",
   "execution_count": 208,
   "metadata": {},
   "outputs": [
    {
     "data": {
      "text/plain": [
       "['Date',\n",
       " '2021 Traveler Throughput',\n",
       " '2020 Traveler Throughput',\n",
       " '2019 Traveler Throughput']"
      ]
     },
     "execution_count": 208,
     "metadata": {},
     "output_type": "execute_result"
    }
   ],
   "source": [
    "tsa_col"
   ]
  },
  {
   "cell_type": "code",
   "execution_count": 209,
   "metadata": {},
   "outputs": [],
   "source": [
    "# this double loop can be combined with the loop above that generates tr_list\n",
    "# but i want to separate text extraction from formatting\n",
    "passengers_per_day = []\n",
    "# for each tr\n",
    "for tr in tr_list:\n",
    "    # we need to find dates for 2020 and 2019 and align them with the html table format\n",
    "    # turn string into date object so we can perform datetime calculations on it\n",
    "    # because the above is a repeatable process, how can move this to a function?\n",
    "    \n",
    "    date_list = [format_date(tr[0], 2021),\n",
    "                 format_date(tr[0], 2020),\n",
    "                 format_date(tr[0], 2019)]\n",
    "    \n",
    "    # for each passenger column td_list[1:]\n",
    "    for (index, passenger_column) in enumerate(tr[1:]):\n",
    "        # Create a new dictionary to populate with formatted date\n",
    "        # index being the column that corresponds to the order of dates in the date_list above\n",
    "        daily_passengers = {\n",
    "            'date': date_list[index],\n",
    "            'value': passenger_column,\n",
    "        }\n",
    "#         print(daily_passengers)\n",
    "        passengers_per_day.append(daily_passengers)\n",
    "        # if value does exist, change it to an integer (or else there will be an error on missing values)\n",
    "        \n",
    "            # add each newly created dictionary to passengers_per_day list"
   ]
  },
  {
   "cell_type": "code",
   "execution_count": 210,
   "metadata": {},
   "outputs": [],
   "source": [
    "date_2021 = datetime.strptime(tr_list[1][0], '%m/%d/%Y')"
   ]
  },
  {
   "cell_type": "code",
   "execution_count": 211,
   "metadata": {},
   "outputs": [
    {
     "data": {
      "text/plain": [
       "1"
      ]
     },
     "execution_count": 211,
     "metadata": {},
     "output_type": "execute_result"
    }
   ],
   "source": [
    "date_2021.isoweekday()"
   ]
  },
  {
   "cell_type": "code",
   "execution_count": 212,
   "metadata": {},
   "outputs": [
    {
     "data": {
      "text/plain": [
       "[{'date': datetime.datetime(2020, 7, 15, 0, 0), 'value': '589,285'},\n",
       " {'date': datetime.datetime(2019, 7, 17, 0, 0), 'value': '2,522,563'},\n",
       " {'date': datetime.datetime(2021, 7, 13, 0, 0), 'value': ''},\n",
       " {'date': datetime.datetime(2020, 7, 14, 0, 0), 'value': '540,268'}]"
      ]
     },
     "execution_count": 212,
     "metadata": {},
     "output_type": "execute_result"
    }
   ],
   "source": [
    "passengers_per_day[-5:-1]"
   ]
  },
  {
   "cell_type": "code",
   "execution_count": 213,
   "metadata": {},
   "outputs": [
    {
     "data": {
      "text/plain": [
       "[{'date': datetime.datetime(2021, 7, 13, 0, 0), 'value': '1,832,878'},\n",
       " {'date': datetime.datetime(2020, 7, 14, 0, 0), 'value': '540,268'},\n",
       " {'date': datetime.datetime(2019, 7, 16, 0, 0), 'value': '2,447,177'},\n",
       " {'date': datetime.datetime(2021, 7, 12, 0, 0), 'value': '2,093,066'},\n",
       " {'date': datetime.datetime(2020, 7, 13, 0, 0), 'value': '697,985'}]"
      ]
     },
     "execution_count": 213,
     "metadata": {},
     "output_type": "execute_result"
    }
   ],
   "source": [
    "passengers_per_day[0:5]"
   ]
  },
  {
   "cell_type": "code",
   "execution_count": 214,
   "metadata": {},
   "outputs": [
    {
     "data": {
      "text/plain": [
       "(920, 920)"
      ]
     },
     "execution_count": 214,
     "metadata": {},
     "output_type": "execute_result"
    }
   ],
   "source": [
    "len(tsa_df), len(tsa_df['date'].unique())"
   ]
  },
  {
   "cell_type": "code",
   "execution_count": 215,
   "metadata": {},
   "outputs": [
    {
     "data": {
      "text/html": [
       "<div>\n",
       "<style scoped>\n",
       "    .dataframe tbody tr th:only-of-type {\n",
       "        vertical-align: middle;\n",
       "    }\n",
       "\n",
       "    .dataframe tbody tr th {\n",
       "        vertical-align: top;\n",
       "    }\n",
       "\n",
       "    .dataframe thead th {\n",
       "        text-align: right;\n",
       "    }\n",
       "</style>\n",
       "<table border=\"1\" class=\"dataframe\">\n",
       "  <thead>\n",
       "    <tr style=\"text-align: right;\">\n",
       "      <th></th>\n",
       "      <th>date</th>\n",
       "      <th>value</th>\n",
       "    </tr>\n",
       "  </thead>\n",
       "  <tbody>\n",
       "  </tbody>\n",
       "</table>\n",
       "</div>"
      ],
      "text/plain": [
       "Empty DataFrame\n",
       "Columns: [date, value]\n",
       "Index: []"
      ]
     },
     "execution_count": 215,
     "metadata": {},
     "output_type": "execute_result"
    }
   ],
   "source": [
    "tsa_df[tsa_df['value'] == '']"
   ]
  },
  {
   "cell_type": "code",
   "execution_count": 216,
   "metadata": {},
   "outputs": [],
   "source": [
    "# turn passengers_per_day into a DataFrame with \"date\" \"value\" columns\n",
    "tsa_df = pd.DataFrame(passengers_per_day)\n",
    "\n",
    "tsa_df = tsa_df[tsa_df['value'] != '']\n",
    "\n",
    "# sort dates from latest to earliest\n",
    "tsa_df = tsa_df.sort_values('date', ascending=False)\n",
    "\n",
    "# delete duplicates\n",
    "tsa_df = tsa_df.drop_duplicates(subset=['date'])"
   ]
  },
  {
   "cell_type": "code",
   "execution_count": 218,
   "metadata": {},
   "outputs": [
    {
     "data": {
      "text/html": [
       "<div>\n",
       "<style scoped>\n",
       "    .dataframe tbody tr th:only-of-type {\n",
       "        vertical-align: middle;\n",
       "    }\n",
       "\n",
       "    .dataframe tbody tr th {\n",
       "        vertical-align: top;\n",
       "    }\n",
       "\n",
       "    .dataframe thead th {\n",
       "        text-align: right;\n",
       "    }\n",
       "</style>\n",
       "<table border=\"1\" class=\"dataframe\">\n",
       "  <thead>\n",
       "    <tr style=\"text-align: right;\">\n",
       "      <th></th>\n",
       "      <th>date</th>\n",
       "      <th>value</th>\n",
       "    </tr>\n",
       "  </thead>\n",
       "  <tbody>\n",
       "    <tr>\n",
       "      <th>0</th>\n",
       "      <td>2021-07-13</td>\n",
       "      <td>1,832,878</td>\n",
       "    </tr>\n",
       "    <tr>\n",
       "      <th>3</th>\n",
       "      <td>2021-07-12</td>\n",
       "      <td>2,093,066</td>\n",
       "    </tr>\n",
       "    <tr>\n",
       "      <th>6</th>\n",
       "      <td>2021-07-11</td>\n",
       "      <td>2,198,635</td>\n",
       "    </tr>\n",
       "    <tr>\n",
       "      <th>9</th>\n",
       "      <td>2021-07-10</td>\n",
       "      <td>1,987,652</td>\n",
       "    </tr>\n",
       "    <tr>\n",
       "      <th>12</th>\n",
       "      <td>2021-07-09</td>\n",
       "      <td>2,147,903</td>\n",
       "    </tr>\n",
       "  </tbody>\n",
       "</table>\n",
       "</div>"
      ],
      "text/plain": [
       "         date      value\n",
       "0  2021-07-13  1,832,878\n",
       "3  2021-07-12  2,093,066\n",
       "6  2021-07-11  2,198,635\n",
       "9  2021-07-10  1,987,652\n",
       "12 2021-07-09  2,147,903"
      ]
     },
     "execution_count": 218,
     "metadata": {},
     "output_type": "execute_result"
    }
   ],
   "source": [
    "tsa_df.head(5)"
   ]
  },
  {
   "cell_type": "markdown",
   "metadata": {},
   "source": [
    "## 2. Transform the data in two different ways for two different charts\n",
    "[What's moving average and why are they used? - Dallas FED](https://www.dallasfed.org/research/basics/moving.aspx)"
   ]
  },
  {
   "cell_type": "markdown",
   "metadata": {},
   "source": [
    "### a. Calculate 7-day moving average"
   ]
  },
  {
   "cell_type": "code",
   "execution_count": 219,
   "metadata": {},
   "outputs": [
    {
     "data": {
      "text/html": [
       "<div>\n",
       "<style scoped>\n",
       "    .dataframe tbody tr th:only-of-type {\n",
       "        vertical-align: middle;\n",
       "    }\n",
       "\n",
       "    .dataframe tbody tr th {\n",
       "        vertical-align: top;\n",
       "    }\n",
       "\n",
       "    .dataframe thead th {\n",
       "        text-align: right;\n",
       "    }\n",
       "</style>\n",
       "<table border=\"1\" class=\"dataframe\">\n",
       "  <thead>\n",
       "    <tr style=\"text-align: right;\">\n",
       "      <th></th>\n",
       "      <th>date</th>\n",
       "      <th>value</th>\n",
       "    </tr>\n",
       "  </thead>\n",
       "  <tbody>\n",
       "    <tr>\n",
       "      <th>563</th>\n",
       "      <td>2019-01-10</td>\n",
       "      <td>2,044,043</td>\n",
       "    </tr>\n",
       "    <tr>\n",
       "      <th>566</th>\n",
       "      <td>2019-01-09</td>\n",
       "      <td>2,229,391</td>\n",
       "    </tr>\n",
       "    <tr>\n",
       "      <th>569</th>\n",
       "      <td>2019-01-08</td>\n",
       "      <td>1,975,947</td>\n",
       "    </tr>\n",
       "    <tr>\n",
       "      <th>572</th>\n",
       "      <td>2019-01-07</td>\n",
       "      <td>2,150,571</td>\n",
       "    </tr>\n",
       "    <tr>\n",
       "      <th>575</th>\n",
       "      <td>2019-01-06</td>\n",
       "      <td>2,202,111</td>\n",
       "    </tr>\n",
       "    <tr>\n",
       "      <th>578</th>\n",
       "      <td>2019-01-05</td>\n",
       "      <td>2,345,103</td>\n",
       "    </tr>\n",
       "    <tr>\n",
       "      <th>581</th>\n",
       "      <td>2019-01-04</td>\n",
       "      <td>2,126,398</td>\n",
       "    </tr>\n",
       "  </tbody>\n",
       "</table>\n",
       "</div>"
      ],
      "text/plain": [
       "          date      value\n",
       "563 2019-01-10  2,044,043\n",
       "566 2019-01-09  2,229,391\n",
       "569 2019-01-08  1,975,947\n",
       "572 2019-01-07  2,150,571\n",
       "575 2019-01-06  2,202,111\n",
       "578 2019-01-05  2,345,103\n",
       "581 2019-01-04  2,126,398"
      ]
     },
     "execution_count": 219,
     "metadata": {},
     "output_type": "execute_result"
    }
   ],
   "source": [
    "# display the last 7 rows\n",
    "tsa_df[-7:]"
   ]
  },
  {
   "cell_type": "code",
   "execution_count": 220,
   "metadata": {},
   "outputs": [],
   "source": [
    "# write a function that takes the current date and 6 previous dates and averages them\n",
    "def moving_average(row):\n",
    "    sum_ = 0\n",
    "    for i in range(0, 7):\n",
    "        new_date = row['date'] - timedelta(days=i)\n",
    "        date_value = tsa_df[tsa_df['date'] == new_date]\n",
    "        value = int(date_value['value'].item().replace(',', ''))\n",
    "        sum_ = sum_ + value\n",
    "        \n",
    "    row['7day_average'] = sum_ / 7\n",
    "    return row"
   ]
  },
  {
   "cell_type": "markdown",
   "metadata": {},
   "source": [
    "[Read up on pandas' apply method](https://pandas.pydata.org/pandas-docs/stable/reference/api/pandas.DataFrame.apply.html)"
   ]
  },
  {
   "cell_type": "code",
   "execution_count": 95,
   "metadata": {},
   "outputs": [],
   "source": [
    "# for row in tsa_df[0:2].iterrows():\n",
    "#     print(row[1])"
   ]
  },
  {
   "cell_type": "code",
   "execution_count": 162,
   "metadata": {},
   "outputs": [],
   "source": [
    "# tsa_df[0:-6]"
   ]
  },
  {
   "cell_type": "code",
   "execution_count": 221,
   "metadata": {},
   "outputs": [],
   "source": [
    "df_average = tsa_df[0:-6].apply(moving_average, axis=1)"
   ]
  },
  {
   "cell_type": "code",
   "execution_count": 222,
   "metadata": {},
   "outputs": [],
   "source": [
    "df_average = df_average.set_index('date')"
   ]
  },
  {
   "cell_type": "code",
   "execution_count": 167,
   "metadata": {},
   "outputs": [],
   "source": [
    "# df_average"
   ]
  },
  {
   "cell_type": "code",
   "execution_count": 20,
   "metadata": {},
   "outputs": [],
   "source": [
    "# calculate 7-day moving average in a new column and start 7 days in (note: result_type apply)\n",
    "# set the date as the index for matplot"
   ]
  },
  {
   "cell_type": "markdown",
   "metadata": {},
   "source": [
    "### b. Group data by weeks"
   ]
  },
  {
   "cell_type": "code",
   "execution_count": 283,
   "metadata": {},
   "outputs": [],
   "source": [
    "# create a function to get day of the first day of the week\n",
    "def weekday_start(row):\n",
    "    week_number = row['date'].isocalendar()[1]\n",
    "#     print(row['date'].isocalendar(), week_number)\n",
    "    row['year_week'] = str(row['date'].year) + '-' + str(week_number)\n",
    "    try:\n",
    "        row['week_start'] = datetime.fromisocalendar(row['date'].year, week_number, 1)\n",
    "    except:\n",
    "        if(week_number == 53):\n",
    "            row['week_start'] = datetime.fromisocalendar(2020, 52, 7) + timedelta(days=1)\n",
    "        else:\n",
    "            print(row['week_start'])\n",
    "    return row"
   ]
  },
  {
   "cell_type": "code",
   "execution_count": 282,
   "metadata": {},
   "outputs": [
    {
     "data": {
      "text/html": [
       "<div>\n",
       "<style scoped>\n",
       "    .dataframe tbody tr th:only-of-type {\n",
       "        vertical-align: middle;\n",
       "    }\n",
       "\n",
       "    .dataframe tbody tr th {\n",
       "        vertical-align: top;\n",
       "    }\n",
       "\n",
       "    .dataframe thead th {\n",
       "        text-align: right;\n",
       "    }\n",
       "</style>\n",
       "<table border=\"1\" class=\"dataframe\">\n",
       "  <thead>\n",
       "    <tr style=\"text-align: right;\">\n",
       "      <th></th>\n",
       "      <th>date</th>\n",
       "      <th>value</th>\n",
       "    </tr>\n",
       "  </thead>\n",
       "  <tbody>\n",
       "    <tr>\n",
       "      <th>569</th>\n",
       "      <td>2019-01-08</td>\n",
       "      <td>1,975,947</td>\n",
       "    </tr>\n",
       "    <tr>\n",
       "      <th>572</th>\n",
       "      <td>2019-01-07</td>\n",
       "      <td>2,150,571</td>\n",
       "    </tr>\n",
       "    <tr>\n",
       "      <th>575</th>\n",
       "      <td>2019-01-06</td>\n",
       "      <td>2,202,111</td>\n",
       "    </tr>\n",
       "    <tr>\n",
       "      <th>578</th>\n",
       "      <td>2019-01-05</td>\n",
       "      <td>2,345,103</td>\n",
       "    </tr>\n",
       "    <tr>\n",
       "      <th>581</th>\n",
       "      <td>2019-01-04</td>\n",
       "      <td>2,126,398</td>\n",
       "    </tr>\n",
       "  </tbody>\n",
       "</table>\n",
       "</div>"
      ],
      "text/plain": [
       "          date      value\n",
       "569 2019-01-08  1,975,947\n",
       "572 2019-01-07  2,150,571\n",
       "575 2019-01-06  2,202,111\n",
       "578 2019-01-05  2,345,103\n",
       "581 2019-01-04  2,126,398"
      ]
     },
     "execution_count": 282,
     "metadata": {},
     "output_type": "execute_result"
    }
   ],
   "source": [
    "tsa_df.tail(5)"
   ]
  },
  {
   "cell_type": "code",
   "execution_count": 284,
   "metadata": {},
   "outputs": [],
   "source": [
    "# create a new column that IDs the start date of the week\n",
    "df_weeks = tsa_df.apply(weekday_start, axis=1)"
   ]
  },
  {
   "cell_type": "code",
   "execution_count": 297,
   "metadata": {},
   "outputs": [],
   "source": [
    "week_count = pd.DataFrame(df_weeks.groupby('week_start')['week_start'].count())\n",
    "week_count.columns = ['start']\n",
    "week_count = week_count.reset_index()"
   ]
  },
  {
   "cell_type": "code",
   "execution_count": 300,
   "metadata": {},
   "outputs": [
    {
     "data": {
      "text/html": [
       "<div>\n",
       "<style scoped>\n",
       "    .dataframe tbody tr th:only-of-type {\n",
       "        vertical-align: middle;\n",
       "    }\n",
       "\n",
       "    .dataframe tbody tr th {\n",
       "        vertical-align: top;\n",
       "    }\n",
       "\n",
       "    .dataframe thead th {\n",
       "        text-align: right;\n",
       "    }\n",
       "</style>\n",
       "<table border=\"1\" class=\"dataframe\">\n",
       "  <thead>\n",
       "    <tr style=\"text-align: right;\">\n",
       "      <th></th>\n",
       "      <th>week_start</th>\n",
       "      <th>start</th>\n",
       "    </tr>\n",
       "  </thead>\n",
       "  <tbody>\n",
       "    <tr>\n",
       "      <th>0</th>\n",
       "      <td>2018-12-31</td>\n",
       "      <td>5</td>\n",
       "    </tr>\n",
       "  </tbody>\n",
       "</table>\n",
       "</div>"
      ],
      "text/plain": [
       "  week_start  start\n",
       "0 2018-12-31      5"
      ]
     },
     "execution_count": 300,
     "metadata": {},
     "output_type": "execute_result"
    }
   ],
   "source": [
    "week_count[week_count['week_start'] == '2018-12-31']"
   ]
  },
  {
   "cell_type": "code",
   "execution_count": 188,
   "metadata": {},
   "outputs": [],
   "source": [
    "df_weeks['value'] = df_weeks['value'].str.replace(',', '').astype(int)"
   ]
  },
  {
   "cell_type": "code",
   "execution_count": 189,
   "metadata": {},
   "outputs": [],
   "source": [
    "df_by_week = df_weeks.groupby('week_start')['value'].sum()"
   ]
  },
  {
   "cell_type": "code",
   "execution_count": 302,
   "metadata": {},
   "outputs": [
    {
     "data": {
      "text/html": [
       "<div>\n",
       "<style scoped>\n",
       "    .dataframe tbody tr th:only-of-type {\n",
       "        vertical-align: middle;\n",
       "    }\n",
       "\n",
       "    .dataframe tbody tr th {\n",
       "        vertical-align: top;\n",
       "    }\n",
       "\n",
       "    .dataframe thead th {\n",
       "        text-align: right;\n",
       "    }\n",
       "</style>\n",
       "<table border=\"1\" class=\"dataframe\">\n",
       "  <thead>\n",
       "    <tr style=\"text-align: right;\">\n",
       "      <th></th>\n",
       "      <th>date</th>\n",
       "      <th>value</th>\n",
       "      <th>year_week</th>\n",
       "      <th>week_start</th>\n",
       "    </tr>\n",
       "  </thead>\n",
       "  <tbody>\n",
       "    <tr>\n",
       "      <th>590</th>\n",
       "      <td>2019-12-31</td>\n",
       "      <td>2,009,880</td>\n",
       "      <td>2019-1</td>\n",
       "      <td>2018-12-31</td>\n",
       "    </tr>\n",
       "    <tr>\n",
       "      <th>593</th>\n",
       "      <td>2019-12-30</td>\n",
       "      <td>2,500,396</td>\n",
       "      <td>2019-1</td>\n",
       "      <td>2018-12-31</td>\n",
       "    </tr>\n",
       "    <tr>\n",
       "      <th>575</th>\n",
       "      <td>2019-01-06</td>\n",
       "      <td>2,202,111</td>\n",
       "      <td>2019-1</td>\n",
       "      <td>2018-12-31</td>\n",
       "    </tr>\n",
       "    <tr>\n",
       "      <th>578</th>\n",
       "      <td>2019-01-05</td>\n",
       "      <td>2,345,103</td>\n",
       "      <td>2019-1</td>\n",
       "      <td>2018-12-31</td>\n",
       "    </tr>\n",
       "    <tr>\n",
       "      <th>581</th>\n",
       "      <td>2019-01-04</td>\n",
       "      <td>2,126,398</td>\n",
       "      <td>2019-1</td>\n",
       "      <td>2018-12-31</td>\n",
       "    </tr>\n",
       "  </tbody>\n",
       "</table>\n",
       "</div>"
      ],
      "text/plain": [
       "          date      value year_week week_start\n",
       "590 2019-12-31  2,009,880    2019-1 2018-12-31\n",
       "593 2019-12-30  2,500,396    2019-1 2018-12-31\n",
       "575 2019-01-06  2,202,111    2019-1 2018-12-31\n",
       "578 2019-01-05  2,345,103    2019-1 2018-12-31\n",
       "581 2019-01-04  2,126,398    2019-1 2018-12-31"
      ]
     },
     "execution_count": 302,
     "metadata": {},
     "output_type": "execute_result"
    }
   ],
   "source": [
    "df_weeks[df_weeks['week_start'] == '2018-12-31']"
   ]
  },
  {
   "cell_type": "code",
   "execution_count": 22,
   "metadata": {},
   "outputs": [],
   "source": [
    "# groupby week start turn the groupby object into a dataframe"
   ]
  },
  {
   "cell_type": "markdown",
   "metadata": {},
   "source": [
    "## 3. Create two charts - one for 7-day moving average and one for week totals\n",
    "Create a bar chart of the daily values for reference"
   ]
  },
  {
   "cell_type": "code",
   "execution_count": 25,
   "metadata": {},
   "outputs": [],
   "source": [
    "# create a bar chart for daily values"
   ]
  },
  {
   "cell_type": "markdown",
   "metadata": {},
   "source": [
    "### a. 7-day moving average"
   ]
  },
  {
   "cell_type": "code",
   "execution_count": 170,
   "metadata": {},
   "outputs": [
    {
     "data": {
      "text/plain": [
       "<AxesSubplot:xlabel='date'>"
      ]
     },
     "execution_count": 170,
     "metadata": {},
     "output_type": "execute_result"
    },
    {
     "data": {
      "image/png": "[encoded data removed]",
      "text/plain": [
       "<Figure size 504x468 with 1 Axes>"
      ]
     },
     "metadata": {
      "needs_background": "light"
     },
     "output_type": "display_data"
    }
   ],
   "source": [
    "# plot a 7-day average line chart\n",
    "fig, ax = plt.subplots(1, 1, figsize=(7, 6.5))\n",
    "df_average['7day_average'].plot(ax=ax)"
   ]
  },
  {
   "cell_type": "markdown",
   "metadata": {},
   "source": [
    "### b. By weekly totals"
   ]
  },
  {
   "cell_type": "code",
   "execution_count": 28,
   "metadata": {},
   "outputs": [],
   "source": [
    "# plot as weeks as a line chart"
   ]
  }
 ],
 "metadata": {
  "kernelspec": {
   "display_name": "Lede2021-fTxvBHm",
   "language": "python",
   "name": "lede2021-ftxvbhm"
  },
  "language_info": {
   "codemirror_mode": {
    "name": "ipython",
    "version": 3
   },
   "file_extension": ".py",
   "mimetype": "text/x-python",
   "name": "python",
   "nbconvert_exporter": "python",
   "pygments_lexer": "ipython3",
   "version": "3.8.10"
  }
 },
 "nbformat": 4,
 "nbformat_minor": 4
}
