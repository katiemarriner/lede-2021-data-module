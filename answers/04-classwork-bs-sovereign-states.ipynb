{
 "cells": [
  {
   "cell_type": "markdown",
   "id": "384edd27-ab7f-409c-8881-edf70501f42e",
   "metadata": {},
   "source": [
    "# 04 - More BeautifulSoup practice\n",
    "Using the [sovereign states](https://en.wikipedia.org/wiki/List_of_sovereign_states) Wikipedia page, you're going to identify different parts of the unconventionally "
   ]
  },
  {
   "cell_type": "markdown",
   "id": "cd9a24f2-5614-4787-92a5-963dec15bd3f",
   "metadata": {},
   "source": [
    "## 1. Select all the rows of the first table on the page"
   ]
  },
  {
   "cell_type": "code",
   "execution_count": 302,
   "id": "79dbee50-2da4-4eb8-b9ac-fb0bf4c08bb0",
   "metadata": {},
   "outputs": [],
   "source": [
    "import pandas as pd\n",
    "from bs4 import BeautifulSoup\n",
    "import requests"
   ]
  },
  {
   "cell_type": "code",
   "execution_count": 303,
   "id": "006a8dc5-658b-4c01-babd-2824a74a8713",
   "metadata": {},
   "outputs": [],
   "source": [
    "# sovereign states wikipedia url\n",
    "states_url = 'https://en.wikipedia.org/wiki/List_of_sovereign_states'"
   ]
  },
  {
   "cell_type": "code",
   "execution_count": 304,
   "id": "692ac449-c371-4e8b-a881-2c769bbe207a",
   "metadata": {},
   "outputs": [],
   "source": [
    "# request the page\n",
    "states_r = requests.get(states_url)"
   ]
  },
  {
   "cell_type": "code",
   "execution_count": 305,
   "id": "8347e81b-9dd4-4d01-acb6-a691ec8490e7",
   "metadata": {},
   "outputs": [],
   "source": [
    "# create a beautifulsoup object\n",
    "states_bs = BeautifulSoup(states_r.text)"
   ]
  },
  {
   "cell_type": "code",
   "execution_count": 306,
   "id": "78b99568-fd4f-4bc6-83e0-76737b9a1d68",
   "metadata": {},
   "outputs": [],
   "source": [
    "# select the first table\n",
    "states_table = states_bs.find('table')"
   ]
  },
  {
   "cell_type": "code",
   "execution_count": 307,
   "id": "5ee86266-0e41-4bfe-8554-658f855678a1",
   "metadata": {},
   "outputs": [],
   "source": [
    "# select all the rows\n",
    "states_trs = states_table.find_all('tr')"
   ]
  },
  {
   "cell_type": "markdown",
   "id": "661ae4e8-1b62-45f6-8264-a384a883c635",
   "metadata": {},
   "source": [
    "## 2. Extract text only from all td tags\n",
    "You'll do this to identify where to separate the two tables"
   ]
  },
  {
   "cell_type": "code",
   "execution_count": 136,
   "id": "be30d187-100f-4340-8959-648880768a54",
   "metadata": {},
   "outputs": [],
   "source": [
    "# loop through all the rows and extract only the text\n",
    "full_table_data = []\n",
    "for tr in states_trs[1:]:\n",
    "    tds = tr.find_all('td')\n",
    "    # select all the td tags nested within each tr object\n",
    "    cells = []\n",
    "    for td in tds:\n",
    "        cells.append(td.text)\n",
    "    full_table_data.append(cells)"
   ]
  },
  {
   "cell_type": "code",
   "execution_count": 151,
   "id": "f3a8e4ba-9ccf-41ce-a84c-95d1a804c241",
   "metadata": {},
   "outputs": [],
   "source": [
    "# separate the first table from the second with list indexing\n",
    "states_df = pd.DataFrame(full_table_data[3:226], columns=None)"
   ]
  },
  {
   "cell_type": "code",
   "execution_count": 150,
   "id": "d52cc499-7cf2-455c-b6c1-788fb46d92d3",
   "metadata": {},
   "outputs": [
    {
     "data": {
      "text/html": [
       "<div>\n",
       "<style scoped>\n",
       "    .dataframe tbody tr th:only-of-type {\n",
       "        vertical-align: middle;\n",
       "    }\n",
       "\n",
       "    .dataframe tbody tr th {\n",
       "        vertical-align: top;\n",
       "    }\n",
       "\n",
       "    .dataframe thead th {\n",
       "        text-align: right;\n",
       "    }\n",
       "</style>\n",
       "<table border=\"1\" class=\"dataframe\">\n",
       "  <thead>\n",
       "    <tr style=\"text-align: right;\">\n",
       "      <th></th>\n",
       "      <th>0</th>\n",
       "      <th>1</th>\n",
       "      <th>2</th>\n",
       "      <th>3</th>\n",
       "    </tr>\n",
       "  </thead>\n",
       "  <tbody>\n",
       "    <tr>\n",
       "      <th>0</th>\n",
       "      <td>Albania – Republic of Albania\\n</td>\n",
       "      <td>A UN member state\\n</td>\n",
       "      <td>A None\\n</td>\n",
       "      <td>\\n</td>\n",
       "    </tr>\n",
       "    <tr>\n",
       "      <th>1</th>\n",
       "      <td>Algeria – People's Democratic Republic of Alg...</td>\n",
       "      <td>A UN member state\\n</td>\n",
       "      <td>A None\\n</td>\n",
       "      <td>\\n</td>\n",
       "    </tr>\n",
       "    <tr>\n",
       "      <th>2</th>\n",
       "      <td>Andorra – Principality of Andorra\\n</td>\n",
       "      <td>A UN member state\\n</td>\n",
       "      <td>A None\\n</td>\n",
       "      <td>Andorra is a co-principality in which the offi...</td>\n",
       "    </tr>\n",
       "    <tr>\n",
       "      <th>3</th>\n",
       "      <td>Angola – Republic of Angola\\n</td>\n",
       "      <td>A UN member state\\n</td>\n",
       "      <td>A None\\n</td>\n",
       "      <td>\\n</td>\n",
       "    </tr>\n",
       "    <tr>\n",
       "      <th>4</th>\n",
       "      <td>Antigua and Barbuda\\n</td>\n",
       "      <td>A UN member state\\n</td>\n",
       "      <td>A None\\n</td>\n",
       "      <td>Antigua and Barbuda is a Commonwealth realm[e]...</td>\n",
       "    </tr>\n",
       "  </tbody>\n",
       "</table>\n",
       "</div>"
      ],
      "text/plain": [
       "                                                   0                    1  \\\n",
       "0                    Albania – Republic of Albania\\n  A UN member state\\n   \n",
       "1   Algeria – People's Democratic Republic of Alg...  A UN member state\\n   \n",
       "2                Andorra – Principality of Andorra\\n  A UN member state\\n   \n",
       "3                      Angola – Republic of Angola\\n  A UN member state\\n   \n",
       "4                              Antigua and Barbuda\\n  A UN member state\\n   \n",
       "\n",
       "          2                                                  3  \n",
       "0  A None\\n                                                 \\n  \n",
       "1  A None\\n                                                 \\n  \n",
       "2  A None\\n  Andorra is a co-principality in which the offi...  \n",
       "3  A None\\n                                                 \\n  \n",
       "4  A None\\n  Antigua and Barbuda is a Commonwealth realm[e]...  "
      ]
     },
     "execution_count": 150,
     "metadata": {},
     "output_type": "execute_result"
    }
   ],
   "source": [
    "states_df.head()"
   ]
  },
  {
   "cell_type": "code",
   "execution_count": 139,
   "id": "ef088d34-bf36-4ed6-8730-9ead7a2da7fb",
   "metadata": {},
   "outputs": [],
   "source": [
    "# separate the second table from the first with list indexing\n",
    "other_states_df = pd.DataFrame(full_table_data[229:-2])"
   ]
  },
  {
   "cell_type": "code",
   "execution_count": 152,
   "id": "23272bac-bb7a-4f81-a4b1-dd699a37fd9e",
   "metadata": {},
   "outputs": [
    {
     "data": {
      "text/html": [
       "<div>\n",
       "<style scoped>\n",
       "    .dataframe tbody tr th:only-of-type {\n",
       "        vertical-align: middle;\n",
       "    }\n",
       "\n",
       "    .dataframe tbody tr th {\n",
       "        vertical-align: top;\n",
       "    }\n",
       "\n",
       "    .dataframe thead th {\n",
       "        text-align: right;\n",
       "    }\n",
       "</style>\n",
       "<table border=\"1\" class=\"dataframe\">\n",
       "  <thead>\n",
       "    <tr style=\"text-align: right;\">\n",
       "      <th></th>\n",
       "      <th>0</th>\n",
       "      <th>1</th>\n",
       "      <th>2</th>\n",
       "      <th>3</th>\n",
       "    </tr>\n",
       "  </thead>\n",
       "  <tbody>\n",
       "    <tr>\n",
       "      <th>0</th>\n",
       "      <td>Abkhazia – Republic of Abkhazia\\n</td>\n",
       "      <td>D No membership\\n</td>\n",
       "      <td>B Claimed by Georgia Claimed by North Korea Cl...</td>\n",
       "      <td>Recognised by Russia, Nauru, Nicaragua, Syria,...</td>\n",
       "    </tr>\n",
       "    <tr>\n",
       "      <th>1</th>\n",
       "      <td>Artsakh – Republic of Artsakh[ag]\\n</td>\n",
       "      <td>D No membership\\n</td>\n",
       "      <td>B Claimed by Georgia Claimed by North Korea Cl...</td>\n",
       "      <td>A de facto independent state,[56][57][58] reco...</td>\n",
       "    </tr>\n",
       "    <tr>\n",
       "      <th>2</th>\n",
       "      <td>Cook Islands\\n</td>\n",
       "      <td>D Member of eight UN specialized agencies\\n</td>\n",
       "      <td>A None(See political status)\\n</td>\n",
       "      <td>A state in free association with New Zealand, ...</td>\n",
       "    </tr>\n",
       "    <tr>\n",
       "      <th>3</th>\n",
       "      <td>Kosovo – Republic of Kosovo\\n</td>\n",
       "      <td>D Member of two UN specialized agencies\\n</td>\n",
       "      <td>B Claimed by Georgia Claimed by North Korea Cl...</td>\n",
       "      <td>Pursuant to United Nations Security Council Re...</td>\n",
       "    </tr>\n",
       "    <tr>\n",
       "      <th>4</th>\n",
       "      <td>Niue\\n</td>\n",
       "      <td>D Member of five UN specialized agencies\\n</td>\n",
       "      <td>A None(See political status)\\n</td>\n",
       "      <td>A state in free association with New Zealand, ...</td>\n",
       "    </tr>\n",
       "  </tbody>\n",
       "</table>\n",
       "</div>"
      ],
      "text/plain": [
       "                                      0  \\\n",
       "0     Abkhazia – Republic of Abkhazia\\n   \n",
       "1   Artsakh – Republic of Artsakh[ag]\\n   \n",
       "2                        Cook Islands\\n   \n",
       "3         Kosovo – Republic of Kosovo\\n   \n",
       "4                                Niue\\n   \n",
       "\n",
       "                                             1  \\\n",
       "0                            D No membership\\n   \n",
       "1                            D No membership\\n   \n",
       "2  D Member of eight UN specialized agencies\\n   \n",
       "3    D Member of two UN specialized agencies\\n   \n",
       "4   D Member of five UN specialized agencies\\n   \n",
       "\n",
       "                                                   2  \\\n",
       "0  B Claimed by Georgia Claimed by North Korea Cl...   \n",
       "1  B Claimed by Georgia Claimed by North Korea Cl...   \n",
       "2                     A None(See political status)\\n   \n",
       "3  B Claimed by Georgia Claimed by North Korea Cl...   \n",
       "4                     A None(See political status)\\n   \n",
       "\n",
       "                                                   3  \n",
       "0  Recognised by Russia, Nauru, Nicaragua, Syria,...  \n",
       "1  A de facto independent state,[56][57][58] reco...  \n",
       "2  A state in free association with New Zealand, ...  \n",
       "3  Pursuant to United Nations Security Council Re...  \n",
       "4  A state in free association with New Zealand, ...  "
      ]
     },
     "execution_count": 152,
     "metadata": {},
     "output_type": "execute_result"
    }
   ],
   "source": [
    "other_states_df.head()"
   ]
  },
  {
   "cell_type": "markdown",
   "id": "ac586f10-e00b-4ecd-8256-7b1df29d1ab6",
   "metadata": {},
   "source": [
    "## 3. Explore further the contents of each table\n",
    "### a. States (table 1)\n",
    "![image](assets/sovereign-states-tr.png)"
   ]
  },
  {
   "cell_type": "code",
   "execution_count": 144,
   "id": "47592eb2-2a71-4ac6-9af4-a5a1d62f5745",
   "metadata": {},
   "outputs": [],
   "source": [
    "# now separate the list based on the information we found from the data frames above and gather the nested tags from each td tag\n",
    "# we also don't want rows where there is a td of colspan 4\n",
    "states_list = []\n",
    "for tr in states_trs[4:226]:\n",
    "    tds = tr.find_all('td')\n",
    "    if(tds[0])\n",
    "    cells = []\n",
    "    for td in tds:\n",
    "        cells.append(td)\n",
    "    states_list.append(cells)"
   ]
  },
  {
   "cell_type": "markdown",
   "id": "6cf72829-a319-4696-8f2c-a47c34dce05c",
   "metadata": {},
   "source": [
    "This is the same information as the image above except in a BeautifulSoup object and not html. Identify what information might be useful apart from the text within each td tag.\n",
    "\n",
    "- \n",
    "- \n",
    "- "
   ]
  },
  {
   "cell_type": "markdown",
   "id": "0d380a2f-a1bd-43c9-a498-262c9eb60beb",
   "metadata": {},
   "source": [
    "Find those attributes in a single row using Antigua and Barbuda as an example"
   ]
  },
  {
   "cell_type": "code",
   "execution_count": 157,
   "id": "7ea66c1b-3376-4f28-8aca-be5b608c520f",
   "metadata": {},
   "outputs": [],
   "source": [
    "antigua_barbuda = states_list[5]"
   ]
  },
  {
   "cell_type": "code",
   "execution_count": 158,
   "id": "37438fc2-f33b-4812-8666-941f1a974c22",
   "metadata": {},
   "outputs": [
    {
     "data": {
      "text/plain": [
       "[<td style=\"vertical-align:top;\"><span id=\"Antigua_and_Barbuda\"></span><b><span class=\"flagicon\"><img alt=\"\" class=\"thumbborder\" data-file-height=\"460\" data-file-width=\"690\" decoding=\"async\" height=\"15\" src=\"//upload.wikimedia.org/wikipedia/commons/thumb/8/89/Flag_of_Antigua_and_Barbuda.svg/23px-Flag_of_Antigua_and_Barbuda.svg.png\" srcset=\"//upload.wikimedia.org/wikipedia/commons/thumb/8/89/Flag_of_Antigua_and_Barbuda.svg/35px-Flag_of_Antigua_and_Barbuda.svg.png 1.5x, //upload.wikimedia.org/wikipedia/commons/thumb/8/89/Flag_of_Antigua_and_Barbuda.svg/45px-Flag_of_Antigua_and_Barbuda.svg.png 2x\" width=\"23\"/> </span><a href=\"/wiki/Antigua_and_Barbuda\" title=\"Antigua and Barbuda\">Antigua and Barbuda</a></b>\n",
       " </td>,\n",
       " <td><span style=\"display:none\">A</span> UN member state\n",
       " </td>,\n",
       " <td><span style=\"display:none\">A</span> None\n",
       " </td>,\n",
       " <td style=\"vertical-align:top;text-align:left;font-size:90%;\">Antigua and Barbuda is a <a href=\"/wiki/Commonwealth_realm\" title=\"Commonwealth realm\">Commonwealth realm</a><sup class=\"reference\" id=\"cite_ref-realm_7-0\"><a href=\"#cite_note-realm-7\">[e]</a></sup> with one autonomous region, <a href=\"/wiki/Barbuda\" title=\"Barbuda\">Barbuda</a>.<sup class=\"reference\" id=\"cite_ref-autonomous_9-0\"><a href=\"#cite_note-autonomous-9\">[f]</a></sup>\n",
       " </td>]"
      ]
     },
     "execution_count": 158,
     "metadata": {},
     "output_type": "execute_result"
    }
   ],
   "source": [
    "antigua_barbuda"
   ]
  },
  {
   "cell_type": "code",
   "execution_count": 164,
   "id": "66677c86-3e2b-4796-a2d7-e8b997d71997",
   "metadata": {},
   "outputs": [
    {
     "data": {
      "text/plain": [
       "'//upload.wikimedia.org/wikipedia/commons/thumb/8/89/Flag_of_Antigua_and_Barbuda.svg/23px-Flag_of_Antigua_and_Barbuda.svg.png'"
      ]
     },
     "execution_count": 164,
     "metadata": {},
     "output_type": "execute_result"
    }
   ],
   "source": [
    "# flag image src\n",
    "antigua_barbuda[0].find('img')['src']"
   ]
  },
  {
   "cell_type": "code",
   "execution_count": 167,
   "id": "a54848de-6ab7-446c-ba77-0fa747ee86b6",
   "metadata": {},
   "outputs": [
    {
     "data": {
      "text/plain": [
       "'/wiki/Antigua_and_Barbuda'"
      ]
     },
     "execution_count": 167,
     "metadata": {},
     "output_type": "execute_result"
    }
   ],
   "source": [
    "# link to wikipedia page\n",
    "antigua_barbuda[0].find('a')['href']"
   ]
  },
  {
   "cell_type": "code",
   "execution_count": 174,
   "id": "9e63576c-54fa-4912-b560-7f38dedfb501",
   "metadata": {},
   "outputs": [
    {
     "name": "stdout",
     "output_type": "stream",
     "text": [
      "<sup class=\"reference\" id=\"cite_ref-realm_7-0\"><a href=\"#cite_note-realm-7\">[e]</a></sup>\n",
      "<sup class=\"reference\" id=\"cite_ref-autonomous_9-0\"><a href=\"#cite_note-autonomous-9\">[f]</a></sup>\n"
     ]
    }
   ],
   "source": [
    "# list of citations\n",
    "for sup in antigua_barbuda[3].find_all('sup'):\n",
    "    print(sup)"
   ]
  },
  {
   "cell_type": "markdown",
   "id": "b7977b82-6053-47b5-9719-4f061a579212",
   "metadata": {},
   "source": [
    "### b. Other states"
   ]
  },
  {
   "cell_type": "markdown",
   "id": "edf6add9-5efe-4c2b-9818-0512292f954e",
   "metadata": {},
   "source": [
    "### a. Other states (table 2)\n",
    "![image](assets/sovereign-states-other-tr-1.png)\n",
    "![image](assets/sovereign-states-other-tr-2.png)"
   ]
  },
  {
   "cell_type": "code",
   "execution_count": 187,
   "id": "725d7126-f19f-4afa-8b77-8667609d8f73",
   "metadata": {},
   "outputs": [],
   "source": [
    "other_states_list = []\n",
    "for tr in states_trs[230:-2]:\n",
    "    tds = tr.find_all('td')\n",
    "    cells = []\n",
    "    for td in tds:\n",
    "        cells.append(td)\n",
    "    other_states_list.append(cells)"
   ]
  },
  {
   "cell_type": "markdown",
   "id": "7fb96abd-b562-4fd8-9498-096c1041e0d1",
   "metadata": {},
   "source": [
    "This is the same information as the image above except in a BeautifulSoup object and not html. Identify what information might be useful apart from the text within each td tag.\n",
    "\n",
    "- \n",
    "- \n",
    "- "
   ]
  },
  {
   "cell_type": "markdown",
   "id": "a3dcf719-684f-4cdb-baa2-39b4ee3627a0",
   "metadata": {},
   "source": [
    "Find those attributes in a single row using Abkhazia as an example"
   ]
  },
  {
   "cell_type": "code",
   "execution_count": 189,
   "id": "99b72bf3-4f53-4b83-9c9b-08d0e4b9f108",
   "metadata": {},
   "outputs": [],
   "source": [
    "abkhazia = other_states_list[0]"
   ]
  },
  {
   "cell_type": "code",
   "execution_count": 195,
   "id": "297b2635-8f49-43ca-b565-7b7001568891",
   "metadata": {},
   "outputs": [
    {
     "data": {
      "text/plain": [
       "[<td style=\"vertical-align:top;\"><span id=\"Abkhazia\"></span><b><span class=\"flagicon\"><img alt=\"\" class=\"thumbborder\" data-file-height=\"300\" data-file-width=\"600\" decoding=\"async\" height=\"12\" src=\"//upload.wikimedia.org/wikipedia/commons/thumb/7/7a/Flag_of_the_Republic_of_Abkhazia.svg/23px-Flag_of_the_Republic_of_Abkhazia.svg.png\" srcset=\"//upload.wikimedia.org/wikipedia/commons/thumb/7/7a/Flag_of_the_Republic_of_Abkhazia.svg/35px-Flag_of_the_Republic_of_Abkhazia.svg.png 1.5x, //upload.wikimedia.org/wikipedia/commons/thumb/7/7a/Flag_of_the_Republic_of_Abkhazia.svg/46px-Flag_of_the_Republic_of_Abkhazia.svg.png 2x\" width=\"23\"/> </span><a href=\"/wiki/Abkhazia\" title=\"Abkhazia\">Abkhazia</a></b> – Republic of Abkhazia\n",
       " </td>,\n",
       " <td style=\"background:LemonChiffon;\"><span style=\"display:none\">D</span> No membership\n",
       " </td>,\n",
       " <td style=\"background:LightCoral;\"><span style=\"display:none\">B </span>Claimed by <a href=\"#Georgia\">Georgia</a><span style=\"display:none\"> Claimed by <a href=\"#Korea_North\">North Korea</a> Claimed by <a href=\"#Serbia\">Serbia</a> Claimed by <a href=\"#Somalia\">Somalia</a> Claimed by the <a href=\"#China\">People's Republic of China</a> Claimed by the <a href=\"#Taiwan\">Republic of China</a> Claimed by <a href=\"#Korea_South\">South Korea</a> Claimed by <a href=\"#Azerbaijan\">Azerbaijan</a> Claimed by the <a href=\"#Cyprus\">Republic of Cyprus</a> Disputed by <a href=\"#Israel\">Israel</a> Claimed by <a href=\"#Mauritius\">Mauritius</a> Claimed by <a href=\"#Morocco\">Morocco</a> Claimed by <a href=\"#Moldova\">Moldova</a> Claimed by <a href=\"#Mali\">Mali</a> Claimed by <a href=\"#Spain\">Spain</a> Claimed by <a href=\"#Argentina\">Argentina</a></span>\n",
       " </td>,\n",
       " <td style=\"vertical-align:top;text-align:left;font-size:90%;\"><a href=\"/wiki/International_recognition_of_Abkhazia_and_South_Ossetia\" title=\"International recognition of Abkhazia and South Ossetia\">Recognised by</a> Russia, Nauru, Nicaragua, Syria, Venezuela, Artsakh, South Ossetia and Transnistria.<sup class=\"reference\" id=\"cite_ref-ASOTREC_87-0\"><a href=\"#cite_note-ASOTREC-87\">[55]</a></sup> Claimed in whole by <a href=\"#Georgia\">Georgia</a> as the <a href=\"/wiki/Government_of_the_Autonomous_Republic_of_Abkhazia\" title=\"Government of the Autonomous Republic of Abkhazia\">Autonomous Republic of Abkhazia</a>.\n",
       " </td>]"
      ]
     },
     "execution_count": 195,
     "metadata": {},
     "output_type": "execute_result"
    }
   ],
   "source": [
    "abkhazia"
   ]
  },
  {
   "cell_type": "code",
   "execution_count": 222,
   "id": "3db1e5ad-cb4b-4a5d-b209-5d829e8f4267",
   "metadata": {},
   "outputs": [
    {
     "data": {
      "text/plain": [
       "['<td style=\"background:LightCoral;\"><span style=\"display:none\">B </span>Claimed by <a href=\"#Georgia\">Georgia',\n",
       " '<span style=\"display:none\"> Claimed by <a href=\"#Korea_North\">North Korea',\n",
       " ' Claimed by <a href=\"#Serbia\">Serbia',\n",
       " ' Claimed by <a href=\"#Somalia\">Somalia',\n",
       " ' Claimed by the <a href=\"#China\">People\\'s Republic of China',\n",
       " ' Claimed by the <a href=\"#Taiwan\">Republic of China',\n",
       " ' Claimed by <a href=\"#Korea_South\">South Korea',\n",
       " ' Claimed by <a href=\"#Azerbaijan\">Azerbaijan',\n",
       " ' Claimed by the <a href=\"#Cyprus\">Republic of Cyprus',\n",
       " ' Disputed by <a href=\"#Israel\">Israel',\n",
       " ' Claimed by <a href=\"#Mauritius\">Mauritius',\n",
       " ' Claimed by <a href=\"#Morocco\">Morocco',\n",
       " ' Claimed by <a href=\"#Moldova\">Moldova',\n",
       " ' Claimed by <a href=\"#Mali\">Mali',\n",
       " ' Claimed by <a href=\"#Spain\">Spain',\n",
       " ' Claimed by <a href=\"#Argentina\">Argentina',\n",
       " '</span>\\n</td>']"
      ]
     },
     "execution_count": 222,
     "metadata": {},
     "output_type": "execute_result"
    }
   ],
   "source": [
    "# what is in \"display:none\" span? labeled \"claimed by/disputed by\" is this valuable informtion?\n",
    "str(abkhazia[2]).split('</a>')"
   ]
  },
  {
   "cell_type": "code",
   "execution_count": 203,
   "id": "98ebadc5-0bbc-4244-a4c0-953ddf01cf6a",
   "metadata": {},
   "outputs": [
    {
     "data": {
      "text/plain": [
       "'background:LemonChiffon;'"
      ]
     },
     "execution_count": 203,
     "metadata": {},
     "output_type": "execute_result"
    }
   ],
   "source": [
    "# what about the background color of the membership column? \n",
    "abkhazia[1]['style']"
   ]
  },
  {
   "cell_type": "code",
   "execution_count": 233,
   "id": "7b154140-a202-4bb4-81b0-ba59a1e7026e",
   "metadata": {},
   "outputs": [
    {
     "data": {
      "text/plain": [
       "' Republic of Abkhazia\\n</td>'"
      ]
     },
     "execution_count": 233,
     "metadata": {},
     "output_type": "execute_result"
    }
   ],
   "source": [
    "# \"secondary\" name? after \" – \"\n",
    "str(abkhazia[0]).split('\\xa0–')[1]"
   ]
  },
  {
   "cell_type": "markdown",
   "id": "2cd4cf07-8859-4ff3-a047-272645e9e305",
   "metadata": {},
   "source": [
    "## 4. Extract the information from step 3 for each row\n",
    "### a. States"
   ]
  },
  {
   "cell_type": "code",
   "execution_count": 269,
   "id": "5a0507bd-89cb-431b-9d00-6ba26cc0a033",
   "metadata": {},
   "outputs": [],
   "source": [
    "states_list_4 = []\n",
    "# for each tr\n",
    "for tr in states_trs[4:226]:\n",
    "#     tr[0] is th first td tag\n",
    "    tds = tr.find_all('td')\n",
    "    try:\n",
    "        c = tds[0]['colspan']\n",
    "    except:\n",
    "        new_row = [None, None, []]\n",
    "        if(tds[0].find('img')):\n",
    "            new_row[0] = tds[0].find('img')['src']\n",
    "        if(tds[0].find('a')):\n",
    "            new_row[1] = tds[0].find('a')['href']\n",
    "        if(len(tds[3].find_all('sup')) > 0):        \n",
    "            for sup in tds[3].find_all('sup'):\n",
    "                new_row[2].append(sup['id'])\n",
    "        for td in tds:\n",
    "            new_row.append(td.text)\n",
    "        states_list_4.append(new_row)"
   ]
  },
  {
   "cell_type": "code",
   "execution_count": 270,
   "id": "40632e54-8e7e-404e-a918-647a183340be",
   "metadata": {},
   "outputs": [],
   "source": [
    "states_df_4 = pd.DataFrame(states_list_4)"
   ]
  },
  {
   "cell_type": "code",
   "execution_count": 275,
   "id": "133852b7-6cd1-4e79-8e7e-011f3a476b01",
   "metadata": {},
   "outputs": [],
   "source": [
    "states_columns_4 = ['flag_img', 'wiki_link', 'citations', 'name', 'un_membership', 'dispute', 'more_info']\n",
    "states_df_4.columns = states_columns_4"
   ]
  },
  {
   "cell_type": "code",
   "execution_count": 278,
   "id": "e485581e-407a-4d8b-9a30-ef48b5a3d41b",
   "metadata": {},
   "outputs": [
    {
     "data": {
      "text/html": [
       "<div>\n",
       "<style scoped>\n",
       "    .dataframe tbody tr th:only-of-type {\n",
       "        vertical-align: middle;\n",
       "    }\n",
       "\n",
       "    .dataframe tbody tr th {\n",
       "        vertical-align: top;\n",
       "    }\n",
       "\n",
       "    .dataframe thead th {\n",
       "        text-align: right;\n",
       "    }\n",
       "</style>\n",
       "<table border=\"1\" class=\"dataframe\">\n",
       "  <thead>\n",
       "    <tr style=\"text-align: right;\">\n",
       "      <th></th>\n",
       "      <th>flag_img</th>\n",
       "      <th>wiki_link</th>\n",
       "      <th>citations</th>\n",
       "      <th>name</th>\n",
       "      <th>un_membership</th>\n",
       "      <th>dispute</th>\n",
       "      <th>more_info</th>\n",
       "    </tr>\n",
       "  </thead>\n",
       "  <tbody>\n",
       "    <tr>\n",
       "      <th>0</th>\n",
       "      <td>//upload.wikimedia.org/wikipedia/commons/thumb...</td>\n",
       "      <td>/wiki/Afghanistan</td>\n",
       "      <td>[]</td>\n",
       "      <td>Afghanistan – Islamic Republic of Afghanistan\\n</td>\n",
       "      <td>A UN member state\\n</td>\n",
       "      <td>A None\\n</td>\n",
       "      <td>\\n</td>\n",
       "    </tr>\n",
       "    <tr>\n",
       "      <th>1</th>\n",
       "      <td>//upload.wikimedia.org/wikipedia/commons/thumb...</td>\n",
       "      <td>/wiki/Albania</td>\n",
       "      <td>[]</td>\n",
       "      <td>Albania – Republic of Albania\\n</td>\n",
       "      <td>A UN member state\\n</td>\n",
       "      <td>A None\\n</td>\n",
       "      <td>\\n</td>\n",
       "    </tr>\n",
       "    <tr>\n",
       "      <th>2</th>\n",
       "      <td>//upload.wikimedia.org/wikipedia/commons/thumb...</td>\n",
       "      <td>/wiki/Algeria</td>\n",
       "      <td>[]</td>\n",
       "      <td>Algeria – People's Democratic Republic of Alg...</td>\n",
       "      <td>A UN member state\\n</td>\n",
       "      <td>A None\\n</td>\n",
       "      <td>\\n</td>\n",
       "    </tr>\n",
       "    <tr>\n",
       "      <th>3</th>\n",
       "      <td>//upload.wikimedia.org/wikipedia/commons/thumb...</td>\n",
       "      <td>/wiki/Andorra</td>\n",
       "      <td>[cite_ref-6]</td>\n",
       "      <td>Andorra – Principality of Andorra\\n</td>\n",
       "      <td>A UN member state\\n</td>\n",
       "      <td>A None\\n</td>\n",
       "      <td>Andorra is a co-principality in which the offi...</td>\n",
       "    </tr>\n",
       "    <tr>\n",
       "      <th>4</th>\n",
       "      <td>//upload.wikimedia.org/wikipedia/commons/thumb...</td>\n",
       "      <td>/wiki/Angola</td>\n",
       "      <td>[]</td>\n",
       "      <td>Angola – Republic of Angola\\n</td>\n",
       "      <td>A UN member state\\n</td>\n",
       "      <td>A None\\n</td>\n",
       "      <td>\\n</td>\n",
       "    </tr>\n",
       "  </tbody>\n",
       "</table>\n",
       "</div>"
      ],
      "text/plain": [
       "                                            flag_img          wiki_link  \\\n",
       "0  //upload.wikimedia.org/wikipedia/commons/thumb...  /wiki/Afghanistan   \n",
       "1  //upload.wikimedia.org/wikipedia/commons/thumb...      /wiki/Albania   \n",
       "2  //upload.wikimedia.org/wikipedia/commons/thumb...      /wiki/Algeria   \n",
       "3  //upload.wikimedia.org/wikipedia/commons/thumb...      /wiki/Andorra   \n",
       "4  //upload.wikimedia.org/wikipedia/commons/thumb...       /wiki/Angola   \n",
       "\n",
       "      citations                                               name  \\\n",
       "0            []    Afghanistan – Islamic Republic of Afghanistan\\n   \n",
       "1            []                    Albania – Republic of Albania\\n   \n",
       "2            []   Algeria – People's Democratic Republic of Alg...   \n",
       "3  [cite_ref-6]                Andorra – Principality of Andorra\\n   \n",
       "4            []                      Angola – Republic of Angola\\n   \n",
       "\n",
       "         un_membership   dispute  \\\n",
       "0  A UN member state\\n  A None\\n   \n",
       "1  A UN member state\\n  A None\\n   \n",
       "2  A UN member state\\n  A None\\n   \n",
       "3  A UN member state\\n  A None\\n   \n",
       "4  A UN member state\\n  A None\\n   \n",
       "\n",
       "                                           more_info  \n",
       "0                                                 \\n  \n",
       "1                                                 \\n  \n",
       "2                                                 \\n  \n",
       "3  Andorra is a co-principality in which the offi...  \n",
       "4                                                 \\n  "
      ]
     },
     "execution_count": 278,
     "metadata": {},
     "output_type": "execute_result"
    }
   ],
   "source": [
    "states_df_4.head(5)"
   ]
  },
  {
   "cell_type": "markdown",
   "id": "1a0a6633-4eec-491a-bab4-b18822c49e02",
   "metadata": {},
   "source": [
    "### b. Other states"
   ]
  },
  {
   "cell_type": "code",
   "execution_count": 291,
   "id": "292c55cd-9224-4fd1-bb6f-5861b754bda2",
   "metadata": {},
   "outputs": [],
   "source": [
    "other_states_list_4 = []\n",
    "# for each tr\n",
    "for tr in states_trs[230:-2]:\n",
    "#     tr[0] is th first td tag\n",
    "    tds = tr.find_all('td')\n",
    "    try:\n",
    "        c = tds[0]['colspan']\n",
    "    except:\n",
    "        new_row = [None, None, []]\n",
    "        new_row[0] = tds[1].get('style')\n",
    "        if(len(str(tds[0]).split('–')) > 0):      \n",
    "            new_row[1] = str(tds[0]).split('–')\n",
    "        if(tds[2].find('a')):\n",
    "            new_row[2] = str(tds[2]).split('</a>')\n",
    "        for td in tds:\n",
    "            new_row.append(td.text)\n",
    "        other_states_list_4.append(new_row)"
   ]
  },
  {
   "cell_type": "code",
   "execution_count": 293,
   "id": "5d3667d7-c365-446a-802c-0f7b10896fce",
   "metadata": {},
   "outputs": [],
   "source": [
    "other_states_df_4 = pd.DataFrame(other_states_list_4)"
   ]
  },
  {
   "cell_type": "code",
   "execution_count": 297,
   "id": "18f2010a-6276-4abd-b7d2-b1e98741c899",
   "metadata": {},
   "outputs": [],
   "source": [
    "other_states_df_4.head(5)\n",
    "other_states_df_4.columns = ['background_color', 'secondary_name', 'claimed_disputed', 'name', 'un_membership', 'notes', 'other_notes']"
   ]
  },
  {
   "cell_type": "code",
   "execution_count": 300,
   "id": "d04c0d07-4cad-4b68-9df7-19c1eadb9c25",
   "metadata": {},
   "outputs": [
    {
     "data": {
      "text/html": [
       "<div>\n",
       "<style scoped>\n",
       "    .dataframe tbody tr th:only-of-type {\n",
       "        vertical-align: middle;\n",
       "    }\n",
       "\n",
       "    .dataframe tbody tr th {\n",
       "        vertical-align: top;\n",
       "    }\n",
       "\n",
       "    .dataframe thead th {\n",
       "        text-align: right;\n",
       "    }\n",
       "</style>\n",
       "<table border=\"1\" class=\"dataframe\">\n",
       "  <thead>\n",
       "    <tr style=\"text-align: right;\">\n",
       "      <th></th>\n",
       "      <th>background_color</th>\n",
       "      <th>secondary_name</th>\n",
       "      <th>claimed_disputed</th>\n",
       "      <th>name</th>\n",
       "      <th>un_membership</th>\n",
       "      <th>notes</th>\n",
       "      <th>other_notes</th>\n",
       "    </tr>\n",
       "  </thead>\n",
       "  <tbody>\n",
       "    <tr>\n",
       "      <th>0</th>\n",
       "      <td>background:LemonChiffon;</td>\n",
       "      <td>[&lt;td style=\"vertical-align:top;\"&gt;&lt;span id=\"Abk...</td>\n",
       "      <td>[&lt;td style=\"background:LightCoral;\"&gt;&lt;span styl...</td>\n",
       "      <td>Abkhazia – Republic of Abkhazia\\n</td>\n",
       "      <td>D No membership\\n</td>\n",
       "      <td>B Claimed by Georgia Claimed by North Korea Cl...</td>\n",
       "      <td>Recognised by Russia, Nauru, Nicaragua, Syria,...</td>\n",
       "    </tr>\n",
       "    <tr>\n",
       "      <th>1</th>\n",
       "      <td>background:LemonChiffon;</td>\n",
       "      <td>[&lt;td style=\"vertical-align:top;\"&gt;&lt;span id=\"Art...</td>\n",
       "      <td>[&lt;td style=\"background:LightCoral;\"&gt;&lt;span styl...</td>\n",
       "      <td>Artsakh – Republic of Artsakh[ag]\\n</td>\n",
       "      <td>D No membership\\n</td>\n",
       "      <td>B Claimed by Georgia Claimed by North Korea Cl...</td>\n",
       "      <td>A de facto independent state,[56][57][58] reco...</td>\n",
       "    </tr>\n",
       "    <tr>\n",
       "      <th>2</th>\n",
       "      <td>background:lightgreen;</td>\n",
       "      <td>[&lt;td style=\"vertical-align:top;\"&gt;&lt;span id=\"Coo...</td>\n",
       "      <td>[&lt;td&gt;&lt;span style=\"display:none\"&gt;A&lt;/span&gt; None&lt;...</td>\n",
       "      <td>Cook Islands\\n</td>\n",
       "      <td>D Member of eight UN specialized agencies\\n</td>\n",
       "      <td>A None(See political status)\\n</td>\n",
       "      <td>A state in free association with New Zealand, ...</td>\n",
       "    </tr>\n",
       "    <tr>\n",
       "      <th>3</th>\n",
       "      <td>background:lightgreen;</td>\n",
       "      <td>[&lt;td style=\"vertical-align:top;\"&gt;&lt;span id=\"Kos...</td>\n",
       "      <td>[&lt;td style=\"background:LightCoral;\"&gt;&lt;span styl...</td>\n",
       "      <td>Kosovo – Republic of Kosovo\\n</td>\n",
       "      <td>D Member of two UN specialized agencies\\n</td>\n",
       "      <td>B Claimed by Georgia Claimed by North Korea Cl...</td>\n",
       "      <td>Pursuant to United Nations Security Council Re...</td>\n",
       "    </tr>\n",
       "    <tr>\n",
       "      <th>4</th>\n",
       "      <td>background:lightgreen;</td>\n",
       "      <td>[&lt;td style=\"vertical-align:top;\"&gt;&lt;span id=\"Niu...</td>\n",
       "      <td>[&lt;td&gt;&lt;span style=\"display:none\"&gt;A&lt;/span&gt; None&lt;...</td>\n",
       "      <td>Niue\\n</td>\n",
       "      <td>D Member of five UN specialized agencies\\n</td>\n",
       "      <td>A None(See political status)\\n</td>\n",
       "      <td>A state in free association with New Zealand, ...</td>\n",
       "    </tr>\n",
       "  </tbody>\n",
       "</table>\n",
       "</div>"
      ],
      "text/plain": [
       "           background_color  \\\n",
       "0  background:LemonChiffon;   \n",
       "1  background:LemonChiffon;   \n",
       "2    background:lightgreen;   \n",
       "3    background:lightgreen;   \n",
       "4    background:lightgreen;   \n",
       "\n",
       "                                      secondary_name  \\\n",
       "0  [<td style=\"vertical-align:top;\"><span id=\"Abk...   \n",
       "1  [<td style=\"vertical-align:top;\"><span id=\"Art...   \n",
       "2  [<td style=\"vertical-align:top;\"><span id=\"Coo...   \n",
       "3  [<td style=\"vertical-align:top;\"><span id=\"Kos...   \n",
       "4  [<td style=\"vertical-align:top;\"><span id=\"Niu...   \n",
       "\n",
       "                                    claimed_disputed  \\\n",
       "0  [<td style=\"background:LightCoral;\"><span styl...   \n",
       "1  [<td style=\"background:LightCoral;\"><span styl...   \n",
       "2  [<td><span style=\"display:none\">A</span> None<...   \n",
       "3  [<td style=\"background:LightCoral;\"><span styl...   \n",
       "4  [<td><span style=\"display:none\">A</span> None<...   \n",
       "\n",
       "                                   name  \\\n",
       "0     Abkhazia – Republic of Abkhazia\\n   \n",
       "1   Artsakh – Republic of Artsakh[ag]\\n   \n",
       "2                        Cook Islands\\n   \n",
       "3         Kosovo – Republic of Kosovo\\n   \n",
       "4                                Niue\\n   \n",
       "\n",
       "                                 un_membership  \\\n",
       "0                            D No membership\\n   \n",
       "1                            D No membership\\n   \n",
       "2  D Member of eight UN specialized agencies\\n   \n",
       "3    D Member of two UN specialized agencies\\n   \n",
       "4   D Member of five UN specialized agencies\\n   \n",
       "\n",
       "                                               notes  \\\n",
       "0  B Claimed by Georgia Claimed by North Korea Cl...   \n",
       "1  B Claimed by Georgia Claimed by North Korea Cl...   \n",
       "2                     A None(See political status)\\n   \n",
       "3  B Claimed by Georgia Claimed by North Korea Cl...   \n",
       "4                     A None(See political status)\\n   \n",
       "\n",
       "                                         other_notes  \n",
       "0  Recognised by Russia, Nauru, Nicaragua, Syria,...  \n",
       "1  A de facto independent state,[56][57][58] reco...  \n",
       "2  A state in free association with New Zealand, ...  \n",
       "3  Pursuant to United Nations Security Council Re...  \n",
       "4  A state in free association with New Zealand, ...  "
      ]
     },
     "execution_count": 300,
     "metadata": {},
     "output_type": "execute_result"
    }
   ],
   "source": [
    "other_states_df_4.head()"
   ]
  },
  {
   "cell_type": "code",
   "execution_count": null,
   "id": "acdf7b46-d7e4-4074-ae06-862d0ff9becb",
   "metadata": {},
   "outputs": [],
   "source": []
  }
 ],
 "metadata": {
  "kernelspec": {
   "display_name": "Python 3",
   "language": "python",
   "name": "python3"
  },
  "language_info": {
   "codemirror_mode": {
    "name": "ipython",
    "version": 3
   },
   "file_extension": ".py",
   "mimetype": "text/x-python",
   "name": "python",
   "nbconvert_exporter": "python",
   "pygments_lexer": "ipython3",
   "version": "3.8.10"
  }
 },
 "nbformat": 4,
 "nbformat_minor": 5
}
