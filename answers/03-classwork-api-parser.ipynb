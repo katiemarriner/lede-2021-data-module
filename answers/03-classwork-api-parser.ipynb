{
 "cells": [
  {
   "cell_type": "markdown",
   "id": "95c00a50-e85c-4aa1-a2ed-afb6c667b73f",
   "metadata": {},
   "source": [
    "# 03 - Web scraping: headers, the networks tab and parsing an API URL\n",
    "## Helpful links and resources\n",
    "- [urllib](https://docs.python.org/3/library/urllib.parse.html#) is a Python library that will pick apart URLs\n",
    "- [Sessions object - request library](https://docs.python-requests.org/en/master/user/advanced/#session-objects)\n",
    "\n",
    "## Table of contents\n",
    "1. The networks tab and adnaced scraping\n",
    "    1. Static data files\n",
    "    1. \"Secret\" APIs\n",
    "        1. Target's search API\n",
    "        1. Target's aggregation API\n",
    "        1. Target's client API\n",
    "1. Using sessions to login\n",
    "    1. Accessing password-protected pages"
   ]
  },
  {
   "cell_type": "code",
   "execution_count": 13,
   "id": "a812281b-19bb-42db-a11b-6ae1bef64387",
   "metadata": {},
   "outputs": [],
   "source": [
    "#import libraries\n",
    "from bs4 import BeautifulSoup\n",
    "import requests\n",
    "from urllib.parse import urlparse, parse_qs\n",
    "import json"
   ]
  },
  {
   "cell_type": "markdown",
   "id": "350a5651-ff27-47a8-b4b1-a5e009785e1e",
   "metadata": {},
   "source": [
    "## The networks tab and advanced scraping\n",
    "### Static data files\n",
    "[Covid cases in the US - New York Times](https://www.nytimes.com/interactive/2021/us/covid-cases.html)"
   ]
  },
  {
   "cell_type": "code",
   "execution_count": 180,
   "id": "55af8f0d-76d6-4b7c-a2ae-e0c4f07ee67e",
   "metadata": {},
   "outputs": [],
   "source": [
    "# get static data file\n",
    "covid_cases_r = requests.get('https://static01.nyt.com/newsgraphics/2021/coronavirus-tracking/data/pages/usa/data.json')"
   ]
  },
  {
   "cell_type": "code",
   "execution_count": 181,
   "id": "d75db7ff-d279-4783-b0dd-7a5bd3a1ac0f",
   "metadata": {},
   "outputs": [],
   "source": [
    "covid_cases = covid_cases_r.json()"
   ]
  },
  {
   "cell_type": "code",
   "execution_count": 183,
   "id": "57b7e64a-ac02-4e32-83ae-5a334f83a8e6",
   "metadata": {},
   "outputs": [],
   "source": [
    "# covid_cases"
   ]
  },
  {
   "cell_type": "markdown",
   "id": "6ce4ecea-7f08-4e5a-b79c-c1d878609ea1",
   "metadata": {},
   "source": [
    "### \"Secret\" APIs\n",
    "Shopping websites are good candidates for secret APIs, such as [Target](www.target.com)\n",
    "\n",
    "#### Target's Search API"
   ]
  },
  {
   "cell_type": "code",
   "execution_count": 2,
   "id": "6532e8cb-d630-449e-aaa1-158a2d8a3570",
   "metadata": {},
   "outputs": [],
   "source": [
    "# search for an item with the networks tab open to ID which APIs you can use\n",
    "# parse the URL so it's easier to read\n",
    "parsed_url = urlparse('https://redsky.target.com/redsky_aggregations/v1/web/plp_search_v1?key=ff457966e64d5e877fdbad070f276d18ecec4a01&channel=WEB&count=24&default_purchasability_filter=true&include_sponsored=true&keyword=paper+plates&offset=0&page=%2Fs%2Fpaper+plates&platform=desktop&pricing_store_id=2850&scheduled_delivery_store_id=2850&store_ids=2850%2C1849%2C3284%2C3229%2C3249&useragent=Mozilla%2F5.0+%28Macintosh%3B+Intel+Mac+OS+X+10_15_7%29+AppleWebKit%2F537.36+%28KHTML%2C+like+Gecko%29+Chrome%2F91.0.4472.114+Safari%2F537.36&visitor_id=017A71BED83F0201BCBD154FC5FC4C74')"
   ]
  },
  {
   "cell_type": "code",
   "execution_count": 3,
   "id": "fdcbe846-f7b4-4260-b5fa-2c78ee2e4447",
   "metadata": {},
   "outputs": [
    {
     "data": {
      "text/plain": [
       "ParseResult(scheme='https', netloc='redsky.target.com', path='/redsky_aggregations/v1/web/plp_search_v1', params='', query='key=ff457966e64d5e877fdbad070f276d18ecec4a01&channel=WEB&count=24&default_purchasability_filter=true&include_sponsored=true&keyword=paper+plates&offset=0&page=%2Fs%2Fpaper+plates&platform=desktop&pricing_store_id=2850&scheduled_delivery_store_id=2850&store_ids=2850%2C1849%2C3284%2C3229%2C3249&useragent=Mozilla%2F5.0+%28Macintosh%3B+Intel+Mac+OS+X+10_15_7%29+AppleWebKit%2F537.36+%28KHTML%2C+like+Gecko%29+Chrome%2F91.0.4472.114+Safari%2F537.36&visitor_id=017A71BED83F0201BCBD154FC5FC4C74', fragment='')"
      ]
     },
     "execution_count": 3,
     "metadata": {},
     "output_type": "execute_result"
    }
   ],
   "source": [
    "# check the parsed URL\n",
    "parsed_url"
   ]
  },
  {
   "cell_type": "markdown",
   "id": "9afa1add-31bf-4be9-bd3d-4b1cfefebeb0",
   "metadata": {},
   "source": [
    "##### Formatting parameters"
   ]
  },
  {
   "cell_type": "code",
   "execution_count": 4,
   "id": "dd8149b0-dc7b-4dfd-bf79-e694085d1e40",
   "metadata": {},
   "outputs": [
    {
     "name": "stdout",
     "output_type": "stream",
     "text": [
      "https://redsky.target.com/redsky_aggregations/v1/web/plp_search_v1\n",
      "{'key': 'ff457966e64d5e877fdbad070f276d18ecec4a01', 'channel': 'WEB', 'count': '24', 'default_purchasability_filter': 'true', 'include_sponsored': 'true', 'keyword': 'paper+plates', 'offset': '0', 'page': '%2Fs%2Fpaper+plates', 'platform': 'desktop', 'pricing_store_id': '2850', 'scheduled_delivery_store_id': '2850', 'store_ids': '2850%2C1849%2C3284%2C3229%2C3249', 'useragent': 'Mozilla%2F5.0+%28Macintosh%3B+Intel+Mac+OS+X+10_15_7%29+AppleWebKit%2F537.36+%28KHTML%2C+like+Gecko%29+Chrome%2F91.0.4472.114+Safari%2F537.36', 'visitor_id': '017A71BED83F0201BCBD154FC5FC4C74'}\n"
     ]
    },
    {
     "data": {
      "text/plain": [
       "(None, None)"
      ]
     },
     "execution_count": 4,
     "metadata": {},
     "output_type": "execute_result"
    }
   ],
   "source": [
    "# format the endpoint and parameters\n",
    "endpoint = parsed_url[0] + '://' + parsed_url[1] + parsed_url[2]\n",
    "params = {}\n",
    "for parameter in parsed_url[4].split('&'):\n",
    "    key_value = parameter.split('=')\n",
    "    params[key_value[0]] = key_value[1]\n",
    "print(endpoint), print(params)"
   ]
  },
  {
   "cell_type": "code",
   "execution_count": 6,
   "id": "437e458e-5ded-41e1-bc98-56c91616b320",
   "metadata": {},
   "outputs": [
    {
     "data": {
      "text/plain": [
       "'key=ff457966e64d5e877fdbad070f276d18ecec4a01&channel=WEB&count=24&default_purchasability_filter=true&include_sponsored=true&keyword=paper+plates&offset=0&page=%2Fs%2Fpaper+plates&platform=desktop&pricing_store_id=2850&scheduled_delivery_store_id=2850&store_ids=2850%2C1849%2C3284%2C3229%2C3249&useragent=Mozilla%2F5.0+%28Macintosh%3B+Intel+Mac+OS+X+10_15_7%29+AppleWebKit%2F537.36+%28KHTML%2C+like+Gecko%29+Chrome%2F91.0.4472.114+Safari%2F537.36&visitor_id=017A71BED83F0201BCBD154FC5FC4C74'"
      ]
     },
     "execution_count": 6,
     "metadata": {},
     "output_type": "execute_result"
    }
   ],
   "source": [
    "parsed_url[4]"
   ]
  },
  {
   "cell_type": "code",
   "execution_count": 7,
   "id": "a1800931-ba96-42f9-bb31-fb3e6eb42274",
   "metadata": {},
   "outputs": [
    {
     "data": {
      "text/plain": [
       "['key=ff457966e64d5e877fdbad070f276d18ecec4a01',\n",
       " 'channel=WEB',\n",
       " 'count=24',\n",
       " 'default_purchasability_filter=true',\n",
       " 'include_sponsored=true',\n",
       " 'keyword=paper+plates',\n",
       " 'offset=0',\n",
       " 'page=%2Fs%2Fpaper+plates',\n",
       " 'platform=desktop',\n",
       " 'pricing_store_id=2850',\n",
       " 'scheduled_delivery_store_id=2850',\n",
       " 'store_ids=2850%2C1849%2C3284%2C3229%2C3249',\n",
       " 'useragent=Mozilla%2F5.0+%28Macintosh%3B+Intel+Mac+OS+X+10_15_7%29+AppleWebKit%2F537.36+%28KHTML%2C+like+Gecko%29+Chrome%2F91.0.4472.114+Safari%2F537.36',\n",
       " 'visitor_id=017A71BED83F0201BCBD154FC5FC4C74']"
      ]
     },
     "execution_count": 7,
     "metadata": {},
     "output_type": "execute_result"
    }
   ],
   "source": [
    "parsed_url[4].split('&')"
   ]
  },
  {
   "cell_type": "code",
   "execution_count": 6,
   "id": "c9447116-fec4-4617-844d-53a6c233f829",
   "metadata": {},
   "outputs": [],
   "source": [
    "# change something in the parameters (like keyword)\n",
    "params['keyword'] = 'paper+cups'"
   ]
  },
  {
   "cell_type": "code",
   "execution_count": 7,
   "id": "ea4155b3-c621-44af-b900-e5a2d9d10f46",
   "metadata": {},
   "outputs": [],
   "source": [
    "# get request with endpoint and params\n",
    "r = requests.get(endpoint, params=params)"
   ]
  },
  {
   "cell_type": "code",
   "execution_count": 8,
   "id": "1c812d2e-66d8-4487-afcb-8d68d53ca4c5",
   "metadata": {},
   "outputs": [
    {
     "data": {
      "text/plain": [
       "24"
      ]
     },
     "execution_count": 8,
     "metadata": {},
     "output_type": "execute_result"
    }
   ],
   "source": [
    "# drill down the json file\n",
    "len(r.json()['data']['search']['products'])"
   ]
  },
  {
   "cell_type": "code",
   "execution_count": 9,
   "id": "101846da-83a5-4830-955c-bb727f4114fb",
   "metadata": {},
   "outputs": [
    {
     "data": {
      "text/plain": [
       "{'__typename': 'ParentProductSummary',\n",
       " 'tcin': '79620967',\n",
       " 'item': {'relationship_type': 'Variation Parent',\n",
       "  'relationship_type_code': 'VAP',\n",
       "  'merchandise_classification': {'class_id': 5, 'department_id': 253},\n",
       "  'eligibility_rules': {},\n",
       "  'enrichment': {'buy_url': 'https://www.target.com/p/disposable-red-plastic-cups-18oz-up-up/-/A-79620967',\n",
       "   'images': {'primary_image_url': 'https://target.scene7.com/is/image/Target/GUEST_2aad5f01-a64e-4bf2-b69b-07342f02326f',\n",
       "    'alternate_image_urls': ['https://target.scene7.com/is/image/Target/GUEST_fe742705-1347-42ce-ae8a-3d7dc6488b2e']}},\n",
       "  'has_extended_sizing': False,\n",
       "  'cart_add_on_threshold': 35.0,\n",
       "  'product_description': {'title': 'Disposable Red Plastic Cups - 18oz - up & up™',\n",
       "   'bullet_descriptions': ['<B>Dimensions (Overall):</B> 4.73 Inches (H) x 3.88 Inches (W)',\n",
       "    '<B>Includes:</B> Cups',\n",
       "    '<B>Capacity (Volume):</B> 18  Ounces',\n",
       "    '<B>Features:</B> Unprinted',\n",
       "    '<B>Package Quantity:</B> 72',\n",
       "    '<B>Food or drink type held:</B> Cold Beverages',\n",
       "    '<B>Material:</B> Polystyrene']},\n",
       "  'primary_brand': {'canonical_url': '/b/up/-/N-q643leuvcp7',\n",
       "   'name': 'up & up',\n",
       "   'facet_id': 'q643leuvcp7'}},\n",
       " 'promotions': [{'plp_message': '10% off Napkins',\n",
       "   'promotion_id': '876719872',\n",
       "   'promotion_class': 'Hurdle',\n",
       "   'ship_method': ['BuyInStore',\n",
       "    'ShipToStore',\n",
       "    'PickupInStore',\n",
       "    'SCHEDULED_DELIVERY',\n",
       "    'SCHEDULED_DELIVERY_PPO'],\n",
       "   'subscription_type': 'ALL',\n",
       "   'threshold_type': 'minAmount',\n",
       "   'threshold_value': 0.01,\n",
       "   'reward_type': 'PercentageOff',\n",
       "   'reward_value': 10.0,\n",
       "   'external_promotion_alternate_id': '343841',\n",
       "   'circle_offer': True}],\n",
       " 'price': {'formatted_current_price': '$2.49 - $4.99',\n",
       "  'formatted_current_price_type': 'reg'},\n",
       " 'ratings_and_reviews': {'statistics': {'rating': {'average': 4.76,\n",
       "    'count': 70,\n",
       "    'secondary_averages': [{'id': 'Quality',\n",
       "      'label': 'quality',\n",
       "      'value': 4.91},\n",
       "     {'id': 'strength', 'label': 'strength', 'value': 4.91},\n",
       "     {'id': 'Durable', 'label': 'durability', 'value': 4.88},\n",
       "     {'id': 'Value', 'label': 'value', 'value': 4.82}]}}},\n",
       " 'variation_summary': {'themes': [{'name': 'Size',\n",
       "    'has_swatch': True,\n",
       "    'swatches': [{'value': '72ct',\n",
       "      'first_child': {'tcin': '14736272',\n",
       "       'primary_image_url': 'https://target.scene7.com/is/image/Target/GUEST_2aad5f01-a64e-4bf2-b69b-07342f02326f',\n",
       "       'alternate_image_urls': ['https://target.scene7.com/is/image/Target/GUEST_fe742705-1347-42ce-ae8a-3d7dc6488b2e']}},\n",
       "     {'value': '36ct',\n",
       "      'first_child': {'tcin': '15723662',\n",
       "       'primary_image_url': 'https://target.scene7.com/is/image/Target/GUEST_3e90960c-1a44-4d99-b2a9-7f9670603eee',\n",
       "       'alternate_image_urls': ['https://target.scene7.com/is/image/Target/GUEST_dc5910b0-b78c-4fa1-8cea-72188f580122']}}]}]}}"
      ]
     },
     "execution_count": 9,
     "metadata": {},
     "output_type": "execute_result"
    }
   ],
   "source": [
    "# drill down some more\n",
    "r.json()['data']['search']['products'][1]['parent']"
   ]
  },
  {
   "cell_type": "markdown",
   "id": "8f0dc919-5271-41b1-a497-866a0554ece2",
   "metadata": {},
   "source": [
    "#### Target's aggregation API"
   ]
  },
  {
   "cell_type": "code",
   "execution_count": 10,
   "id": "bf67c5f0-d45a-4226-86f6-2d21c4b8be9c",
   "metadata": {},
   "outputs": [],
   "source": [
    "# parse the URL so it's easier to read\n",
    "target_list = urlparse('https://redsky.target.com/redsky_aggregations/v1/web/plp_fulfillment_v1?key=ff457966e64d5e877fdbad070f276d18ecec4a01&tcins=81107269%2C81068829%2C14135567%2C81068792%2C82079503%2C81829962%2C81068790%2C81506339%2C80935950%2C81107259%2C81068797%2C11069188%2C81506334%2C81107271%2C81068773%2C81180792%2C81107267%2C81068789%2C81068796%2C81506336%2C81107268%2C81068821%2C81564691%2C81953908%2C81068815%2C81068825%2C81068787%2C81564688&store_id=2850&zip=11201&state=NY&latitude=40.690&longitude=-74.000&scheduled_delivery_store_id=2850')"
   ]
  },
  {
   "cell_type": "code",
   "execution_count": 11,
   "id": "bc60e1ea-38d6-4741-99eb-c090df7335cb",
   "metadata": {},
   "outputs": [
    {
     "data": {
      "text/plain": [
       "ParseResult(scheme='https', netloc='redsky.target.com', path='/redsky_aggregations/v1/web/plp_fulfillment_v1', params='', query='key=ff457966e64d5e877fdbad070f276d18ecec4a01&tcins=81107269%2C81068829%2C14135567%2C81068792%2C82079503%2C81829962%2C81068790%2C81506339%2C80935950%2C81107259%2C81068797%2C11069188%2C81506334%2C81107271%2C81068773%2C81180792%2C81107267%2C81068789%2C81068796%2C81506336%2C81107268%2C81068821%2C81564691%2C81953908%2C81068815%2C81068825%2C81068787%2C81564688&store_id=2850&zip=11201&state=NY&latitude=40.690&longitude=-74.000&scheduled_delivery_store_id=2850', fragment='')"
      ]
     },
     "execution_count": 11,
     "metadata": {},
     "output_type": "execute_result"
    }
   ],
   "source": [
    "# check the parsed URL\n",
    "target_list"
   ]
  },
  {
   "cell_type": "code",
   "execution_count": 12,
   "id": "5b64aec2-7175-4b13-b2fe-5906383a1fab",
   "metadata": {},
   "outputs": [],
   "source": [
    "# format the endpoint and parameters\n",
    "target_list_endpoint = target_list[0] + '://' + target_list[1] + target_list[2]\n",
    "target_list_params = {}\n",
    "for parameter in target_list[4].split('&'):\n",
    "    key_value = parameter.split('=')\n",
    "    target_list_params[key_value[0]] = key_value[1]"
   ]
  },
  {
   "cell_type": "code",
   "execution_count": 13,
   "id": "767f4915-1503-4ace-8132-3dbfcf5d8444",
   "metadata": {},
   "outputs": [],
   "source": [
    "# change something in the parameters (like tcins)\n",
    "target_list_params['tcins'] = '81107269'"
   ]
  },
  {
   "cell_type": "code",
   "execution_count": 14,
   "id": "15f3b412-155d-4754-99e7-a310aa87feb1",
   "metadata": {},
   "outputs": [],
   "source": [
    "# get request with endpoint and params\n",
    "target_list_r = requests.get(target_list_endpoint, params=target_list_params)"
   ]
  },
  {
   "cell_type": "code",
   "execution_count": 15,
   "id": "8e43318a-351e-44cd-b578-5b937d6a8d47",
   "metadata": {},
   "outputs": [
    {
     "data": {
      "text/plain": [
       "[{'__typename': 'ProductSummary',\n",
       "  'tcin': '81107269',\n",
       "  'fulfillment': {'product_id': '81107269',\n",
       "   'is_out_of_stock_in_all_store_locations': False,\n",
       "   'shipping_options': {'availability_status': 'IN_STOCK',\n",
       "    'loyalty_availability_status': 'IN_STOCK',\n",
       "    'available_to_promise_quantity': 399.0,\n",
       "    'minimum_order_quantity': 1.0,\n",
       "    'services': [{'shipping_method_id': 'STANDARD',\n",
       "      'min_delivery_date': '2021-07-08',\n",
       "      'max_delivery_date': '2021-07-08',\n",
       "      'is_two_day_shipping': True,\n",
       "      'is_base_shipping_method': True,\n",
       "      'service_level_description': '2-day shipping',\n",
       "      'shipping_method_short_description': 'Standard',\n",
       "      'cutoff': '2021-07-05T16:00:00Z'}]},\n",
       "   'store_options': [{'location_name': 'Brooklyn Fulton St',\n",
       "     'location_address': '445 Albee Square West,BROOKLYN,NY,11201-3016',\n",
       "     'location_id': '2850',\n",
       "     'search_response_store_type': 'PRIMARY',\n",
       "     'order_pickup': {'availability_status': 'UNAVAILABLE',\n",
       "      'reason_code': 'IN_ELIGIBLE'},\n",
       "     'in_store_only': {'availability_status': 'NOT_SOLD_IN_STORE'},\n",
       "     'ship_to_store': {'max_pickup_date': '2021-07-09',\n",
       "      'min_pickup_date': '2021-07-09',\n",
       "      'availability_status': 'IN_STOCK'}}],\n",
       "   'scheduled_delivery': {'availability_status': 'UNAVAILABLE'}}}]"
      ]
     },
     "execution_count": 15,
     "metadata": {},
     "output_type": "execute_result"
    }
   ],
   "source": [
    "# drill down the json file\n",
    "target_list_r.json()['data']['product_summaries']"
   ]
  },
  {
   "cell_type": "code",
   "execution_count": 16,
   "id": "f2558201-fd11-4120-a893-b8c8b02402e6",
   "metadata": {},
   "outputs": [
    {
     "data": {
      "text/plain": [
       "{'__typename': 'ProductSummary',\n",
       " 'tcin': '81107269',\n",
       " 'fulfillment': {'product_id': '81107269',\n",
       "  'is_out_of_stock_in_all_store_locations': False,\n",
       "  'shipping_options': {'availability_status': 'IN_STOCK',\n",
       "   'loyalty_availability_status': 'IN_STOCK',\n",
       "   'available_to_promise_quantity': 399.0,\n",
       "   'minimum_order_quantity': 1.0,\n",
       "   'services': [{'shipping_method_id': 'STANDARD',\n",
       "     'min_delivery_date': '2021-07-08',\n",
       "     'max_delivery_date': '2021-07-08',\n",
       "     'is_two_day_shipping': True,\n",
       "     'is_base_shipping_method': True,\n",
       "     'service_level_description': '2-day shipping',\n",
       "     'shipping_method_short_description': 'Standard',\n",
       "     'cutoff': '2021-07-05T16:00:00Z'}]},\n",
       "  'store_options': [{'location_name': 'Brooklyn Fulton St',\n",
       "    'location_address': '445 Albee Square West,BROOKLYN,NY,11201-3016',\n",
       "    'location_id': '2850',\n",
       "    'search_response_store_type': 'PRIMARY',\n",
       "    'order_pickup': {'availability_status': 'UNAVAILABLE',\n",
       "     'reason_code': 'IN_ELIGIBLE'},\n",
       "    'in_store_only': {'availability_status': 'NOT_SOLD_IN_STORE'},\n",
       "    'ship_to_store': {'max_pickup_date': '2021-07-09',\n",
       "     'min_pickup_date': '2021-07-09',\n",
       "     'availability_status': 'IN_STOCK'}}],\n",
       "  'scheduled_delivery': {'availability_status': 'UNAVAILABLE'}}}"
      ]
     },
     "execution_count": 16,
     "metadata": {},
     "output_type": "execute_result"
    }
   ],
   "source": [
    "# drill down some more\n",
    "target_list_r.json()['data']['product_summaries'][0]"
   ]
  },
  {
   "cell_type": "markdown",
   "id": "ff267424-499d-4d89-b725-bd7d45d6c8c6",
   "metadata": {},
   "source": [
    "#### Target's pdp_client_v1 endpoint"
   ]
  },
  {
   "cell_type": "code",
   "execution_count": 8,
   "id": "6370e665-73ac-4590-b711-6503e794e415",
   "metadata": {},
   "outputs": [],
   "source": [
    "client_endpoint = 'https://redsky.target.com/redsky_aggregations/v1/web/pdp_client_v1?key=ff457966e64d5e877fdbad070f276d18ecec4a01&tcin=82795418&store_id=2850&has_store_id=true&pricing_store_id=2850&has_pricing_store_id=true&scheduled_delivery_store_id=2850&has_scheduled_delivery_store_id=true&has_financing_options=true&visitor_id=017A71BED83F0201BCBD154FC5FC4C74&has_size_context=true'"
   ]
  },
  {
   "cell_type": "code",
   "execution_count": 10,
   "id": "bd470be0-1acb-4403-8aa5-10cd2ce31762",
   "metadata": {},
   "outputs": [],
   "source": [
    "client_parse = urlparse(client_endpoint)"
   ]
  },
  {
   "cell_type": "markdown",
   "id": "7d243ad3-d13c-451c-93ce-4be098b9ab8f",
   "metadata": {},
   "source": [
    "The below method below achieves the same goal as [this for loop]()"
   ]
  },
  {
   "cell_type": "code",
   "execution_count": 14,
   "id": "c54fff69-8ebf-41d7-9127-0d09007c27d8",
   "metadata": {},
   "outputs": [],
   "source": [
    "# urllib has a way to parse queries (url parameters)\n",
    "query_parse = parse_qs(client_parse[4])"
   ]
  },
  {
   "cell_type": "code",
   "execution_count": 15,
   "id": "1a0f17ed-f6e8-4db6-a866-8fdba583f96f",
   "metadata": {},
   "outputs": [
    {
     "data": {
      "text/plain": [
       "{'key': ['ff457966e64d5e877fdbad070f276d18ecec4a01'],\n",
       " 'tcin': ['82795418'],\n",
       " 'store_id': ['2850'],\n",
       " 'has_store_id': ['true'],\n",
       " 'pricing_store_id': ['2850'],\n",
       " 'has_pricing_store_id': ['true'],\n",
       " 'scheduled_delivery_store_id': ['2850'],\n",
       " 'has_scheduled_delivery_store_id': ['true'],\n",
       " 'has_financing_options': ['true'],\n",
       " 'visitor_id': ['017A71BED83F0201BCBD154FC5FC4C74'],\n",
       " 'has_size_context': ['true']}"
      ]
     },
     "execution_count": 15,
     "metadata": {},
     "output_type": "execute_result"
    }
   ],
   "source": [
    "query_parse"
   ]
  },
  {
   "cell_type": "markdown",
   "id": "d5769982-6017-4f5e-bbc3-fc4445fc4011",
   "metadata": {},
   "source": [
    "## Using sessions to login\n",
    "### Accessing password-protected pages\n",
    "[Sessions object - request library](https://docs.python-requests.org/en/master/user/advanced/#session-objects)"
   ]
  },
  {
   "cell_type": "code",
   "execution_count": 17,
   "id": "7c9549ce-8812-424b-8cad-5d27a6a03280",
   "metadata": {},
   "outputs": [],
   "source": [
    "# open up a session so that your login credentials are saved\n",
    "session = requests.Session()"
   ]
  },
  {
   "cell_type": "code",
   "execution_count": 18,
   "id": "e9f7c1b7-c2a7-4cf6-a393-c1120c946335",
   "metadata": {},
   "outputs": [],
   "source": [
    "with open('../config/config.json') as json_file:\n",
    "    config = json.load(json_file)"
   ]
  },
  {
   "cell_type": "code",
   "execution_count": 19,
   "id": "cf1e069d-ea0c-42ad-95b4-1aecace9c1ec",
   "metadata": {},
   "outputs": [],
   "source": [
    "payload = {\n",
    "    'username':'katiemarriner',\n",
    "    'password': config['atom_password'],\n",
    "}"
   ]
  },
  {
   "cell_type": "code",
   "execution_count": 20,
   "id": "f1830a9c-621a-4a90-a53d-5c205a8e2ea7",
   "metadata": {},
   "outputs": [],
   "source": [
    "# post the payload to the site to log in\n",
    "s = session.post(\"https://atom.finance/session/signin\", data=payload)"
   ]
  },
  {
   "cell_type": "code",
   "execution_count": 21,
   "id": "b06c1117-0551-4273-8038-e2bd1ad8435f",
   "metadata": {},
   "outputs": [
    {
     "data": {
      "text/plain": [
       "'{\"success\":true,\"userId\":\"70920d34-5ae8-4bd3-81d0-f0ce721a1095\",\"email\":\"kemarriner@gmail.com\",\"username\":\"katiemarriner\",\"firstName\":\"Katie\",\"lastName\":\"Marriner\",\"name\":\"Katie Marriner\",\"inviteCode\":null}'"
      ]
     },
     "execution_count": 21,
     "metadata": {},
     "output_type": "execute_result"
    }
   ],
   "source": [
    "s.text"
   ]
  },
  {
   "cell_type": "code",
   "execution_count": 22,
   "id": "2fa83ead-22b0-4819-aca9-23e8f04786b3",
   "metadata": {},
   "outputs": [],
   "source": [
    "payload = {\n",
    "    \"variables\":{\"symbol\":\"SPY\"},\n",
    "    \"query\": \"query getETFProfile($symbol: String!) {\\n  etfProfile(symbol: $symbol) {\\n    id\\n    issuer\\n    description\\n    }\\n}\\n\"\n",
    "}"
   ]
  },
  {
   "cell_type": "code",
   "execution_count": 23,
   "id": "11dad6ae-77c2-4fd1-842b-5048b77fc199",
   "metadata": {},
   "outputs": [],
   "source": [
    "# Navigate to the next page and scrape the data\n",
    "s = session.post('https://atom.finance/graphql', json=payload)"
   ]
  },
  {
   "cell_type": "code",
   "execution_count": 24,
   "id": "6c5d4682-7dbb-4ff1-8b1c-cce050aad8e1",
   "metadata": {},
   "outputs": [
    {
     "data": {
      "text/plain": [
       "'{\"data\":{\"etfProfile\":{\"id\":\"e40f8558-a387-4fdf-89ea-934d2f776de0\",\"issuer\":\"SSgA\",\"description\":\"SPDR S&P 500 ETF Trust\"}}}\\n'"
      ]
     },
     "execution_count": 24,
     "metadata": {},
     "output_type": "execute_result"
    }
   ],
   "source": [
    "s.text"
   ]
  },
  {
   "cell_type": "code",
   "execution_count": null,
   "id": "ead2d484-c9c6-4cdd-ab78-58c2c9c9a735",
   "metadata": {},
   "outputs": [],
   "source": []
  }
 ],
 "metadata": {
  "kernelspec": {
   "display_name": "Python 3",
   "language": "python",
   "name": "python3"
  },
  "language_info": {
   "codemirror_mode": {
    "name": "ipython",
    "version": 3
   },
   "file_extension": ".py",
   "mimetype": "text/x-python",
   "name": "python",
   "nbconvert_exporter": "python",
   "pygments_lexer": "ipython3",
   "version": "3.8.10"
  }
 },
 "nbformat": 4,
 "nbformat_minor": 5
}
